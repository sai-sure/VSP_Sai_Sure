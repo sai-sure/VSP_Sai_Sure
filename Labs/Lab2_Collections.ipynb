{
  "cells": [
    {
      "metadata": {
        "id": "53bab78b0d66b246"
      },
      "cell_type": "markdown",
      "source": [
        "# Lab Assignment # 2 - Collections"
      ],
      "id": "53bab78b0d66b246"
    },
    {
      "metadata": {
        "id": "c980b9461542bf99"
      },
      "cell_type": "markdown",
      "source": [
        "## Exercise 1 -- Comparison Operators\n",
        "Using `num_list` and list comprehensions, create three lists that correspond to the elements in num_list:\n",
        "1. `equal_list` whose elements should be true if the corresponding element in `num_list` is equal to 0 and false otherwise.\n",
        "2. `greater_list` whose elements should be true if the corresponding element in `num_list` is strictly greater than 0 and false otherwise.\n",
        "3. `lesser_list` whose elements should be true if the corresponding element in `num_list` is strictly less than 0 and false otherwise.\n",
        "4. Finally, using the three lists you generated, list comprehensions, and `zip()`, create `true_list` a list of length 7 where every element is true.\n",
        "\n",
        "**Hints for 4:**\n",
        "- `zip` can be used on more than two lists\n",
        "- use `or` within the list comprehension"
      ],
      "id": "c980b9461542bf99"
    },
    {
      "metadata": {
        "colab": {
          "base_uri": "https://localhost:8080/"
        },
        "id": "2e353f3a5c8caeb4",
        "outputId": "12b43920-dadd-4620-f033-f800df21f184"
      },
      "cell_type": "code",
      "source": [
        "# Exercise 1 Code\n",
        "# Don't edit the line below\n",
        "num_list = [-5, -3, -1, 0, 1, 3, 5]\n",
        "\n",
        "# your code below here\n",
        "\n",
        "equal_list = [num_list[0] == 0, num_list[1] == 0, num_list[2] == 0, num_list[3] == 0, num_list[4] == 0, num_list[5] == 0, num_list[6] == 0]\n",
        "print(\"equal_list: \")\n",
        "print(equal_list)\n",
        "\n",
        "greater_list = [num_list[0] > 0, num_list[1] > 0, num_list[2] > 0, num_list[3] > 0, num_list[4] > 0, num_list[5] > 0, num_list[6] > 0]\n",
        "print(\"greater_list: \")\n",
        "print(greater_list)\n",
        "\n",
        "lesser_list = [num_list[0] < 0, num_list[1] < 0, num_list[2] < 0, num_list[3] < 0, num_list[4] < 0, num_list[5] < 0, num_list[6] < 0]\n",
        "print(\"lesser_list: \")\n",
        "print(lesser_list)"
      ],
      "id": "2e353f3a5c8caeb4",
      "outputs": [
        {
          "output_type": "stream",
          "name": "stdout",
          "text": [
            "equal_list: \n",
            "[False, False, False, True, False, False, False]\n",
            "greater_list: \n",
            "[False, False, False, False, True, True, True]\n",
            "lesser_list: \n",
            "[True, True, True, False, False, False, False]\n"
          ]
        }
      ],
      "execution_count": 8
    },
    {
      "cell_type": "code",
      "source": [
        "true_list = []\n",
        "for num in zip(num_list or equal_list or greater_list or lesser_list) :\n",
        "  num == 0\n",
        "  true_list.append(True)"
      ],
      "metadata": {
        "id": "0mU9sa43J2tY"
      },
      "id": "0mU9sa43J2tY",
      "execution_count": 16,
      "outputs": []
    },
    {
      "cell_type": "code",
      "source": [
        "print(true_list)"
      ],
      "metadata": {
        "colab": {
          "base_uri": "https://localhost:8080/"
        },
        "id": "GxUoACAl7gs_",
        "outputId": "2bb6eb44-4cd3-4141-823b-d56425d8804e"
      },
      "id": "GxUoACAl7gs_",
      "execution_count": 17,
      "outputs": [
        {
          "output_type": "stream",
          "name": "stdout",
          "text": [
            "[True, True, True, True, True, True, True]\n"
          ]
        }
      ]
    },
    {
      "metadata": {
        "id": "af64d7ed5202ea4"
      },
      "cell_type": "markdown",
      "source": [
        "## Exercise 2 -- Lists\n",
        "Complete the following steps in the cells below:\n",
        "1. Add two different elements from `num_list` together so that the sum is 0. Print the result.\n",
        "2. Using `.append()`, add a 7 to the end of `num_list`\n",
        "3. Using `.insert()`, add a -7 to the start of `num_list`\n",
        "3. Change each element of `num_list` individually so that it it is equal to the list `[-4, -3, -2, -1, 0, 1, 2, 3, 4]`\n",
        "4. Use the list method `.reverse()` on `num_list` then print `num_list`. What does `.reverse()` do?  Did `.reverse()` change `num_list`?  Answer in the Markdown Cell.\n"
      ],
      "id": "af64d7ed5202ea4"
    },
    {
      "metadata": {
        "colab": {
          "base_uri": "https://localhost:8080/"
        },
        "id": "d7b462dd84d7b94a",
        "outputId": "705c25f3-7a09-47ca-8f3b-858646df0f37"
      },
      "cell_type": "code",
      "source": [
        "# Exercise 2 Code\n",
        "\n",
        "print(num_list[1] + num_list[-2])"
      ],
      "id": "d7b462dd84d7b94a",
      "outputs": [
        {
          "output_type": "stream",
          "name": "stdout",
          "text": [
            "0\n"
          ]
        }
      ],
      "execution_count": null
    },
    {
      "cell_type": "code",
      "source": [
        "#append\n",
        "num_list.append(7)\n",
        "print(num_list)"
      ],
      "metadata": {
        "colab": {
          "base_uri": "https://localhost:8080/"
        },
        "id": "9CsDxa0K_o1f",
        "outputId": "0af03c8f-6b57-4760-aaa5-2ee6e13bbf3c"
      },
      "id": "9CsDxa0K_o1f",
      "execution_count": null,
      "outputs": [
        {
          "output_type": "stream",
          "name": "stdout",
          "text": [
            "[-5, -3, -1, 0, 1, 3, 5, 7]\n"
          ]
        }
      ]
    },
    {
      "cell_type": "code",
      "source": [
        "#insert\n",
        "num_list.insert(0,-7)\n",
        "print(num_list)"
      ],
      "metadata": {
        "id": "1E1TdRwtHysv",
        "colab": {
          "base_uri": "https://localhost:8080/"
        },
        "outputId": "2967c3dc-9ef0-4973-8a28-39859605e6a1"
      },
      "id": "1E1TdRwtHysv",
      "execution_count": null,
      "outputs": [
        {
          "output_type": "stream",
          "name": "stdout",
          "text": [
            "[-7, -5, -3, -1, 0, 1, 3, 5, 7]\n"
          ]
        }
      ]
    },
    {
      "cell_type": "code",
      "source": [
        "#changing the elements\n",
        "num_list[0:8] = [-4, -3, -2, -1, 0, 1, 2, 3, 4]\n",
        "print (num_list)"
      ],
      "metadata": {
        "colab": {
          "base_uri": "https://localhost:8080/"
        },
        "id": "gwGIhmrKL4lR",
        "outputId": "2db351c1-202c-4d34-d0b4-35ff59cb0f13"
      },
      "id": "gwGIhmrKL4lR",
      "execution_count": null,
      "outputs": [
        {
          "output_type": "stream",
          "name": "stdout",
          "text": [
            "[-4, -3, -2, -1, 0, 1, 2, 3, 4, 7]\n"
          ]
        }
      ]
    },
    {
      "cell_type": "code",
      "source": [
        "#.reverse()\n",
        "num_list.reverse()\n",
        "print(num_list)"
      ],
      "metadata": {
        "colab": {
          "base_uri": "https://localhost:8080/"
        },
        "id": "7xOqOIXwMT62",
        "outputId": "a8ded57b-a234-40e8-d588-3f0f2435fd57"
      },
      "id": "7xOqOIXwMT62",
      "execution_count": null,
      "outputs": [
        {
          "output_type": "stream",
          "name": "stdout",
          "text": [
            "[7, 4, 3, 2, 1, 0, -1, -2, -3, -4]\n"
          ]
        }
      ]
    },
    {
      "cell_type": "markdown",
      "source": [
        "`.reverse()` changed the `num_list` by flipping the order of the numbers in the list."
      ],
      "metadata": {
        "id": "5Tu40MAENwxd"
      },
      "id": "5Tu40MAENwxd"
    },
    {
      "metadata": {
        "id": "89dc2473a4e17740"
      },
      "cell_type": "markdown",
      "source": [
        "### Response to Exercise 2.5"
      ],
      "id": "89dc2473a4e17740"
    },
    {
      "metadata": {
        "id": "47726a8961d2a436"
      },
      "cell_type": "markdown",
      "source": [
        "## Exercise 3 -- Dictionaries\n",
        "First, define a dictonary called `my_dict`. It should contain four keys:\n",
        "- \"name\"\n",
        "- \"major\"\n",
        "- \"favorite artist\"\n",
        "- \"favorite food\"\n",
        "\n",
        "Fill out the values to match your name, major, etc.\n",
        "\n",
        "Using `my_dict` and string formatting, print a sentence in the cell below that says who you are, what your major is, your favorite artist, and your favorite food."
      ],
      "id": "47726a8961d2a436"
    },
    {
      "metadata": {
        "colab": {
          "base_uri": "https://localhost:8080/"
        },
        "id": "e61e388fab247657",
        "outputId": "cc1bf0c8-5565-4b04-afe3-3610e1bab090"
      },
      "cell_type": "code",
      "source": [
        "# Exercise 3 Code\n",
        "my_dict = {\n",
        "    \"name\": \"Sai\",\n",
        "    \"major\": \"Business Analytics\",\n",
        "    \"favourite artist\": \"Monet\",\n",
        "    \"favourite food\": \"Udon\"\n",
        "}\n",
        "my_dict"
      ],
      "id": "e61e388fab247657",
      "outputs": [
        {
          "output_type": "execute_result",
          "data": {
            "text/plain": [
              "{'name': 'Sai',\n",
              " 'major': 'Business Analytics',\n",
              " 'favourite artist': 'Monet',\n",
              " 'favourite food': 'Udon'}"
            ]
          },
          "metadata": {},
          "execution_count": 18
        }
      ],
      "execution_count": 18
    },
    {
      "cell_type": "code",
      "source": [
        "print(\"My name is {name}. My major is {major}. My favourite artist is {favourite artist}. My favourite food is {favourite food}.\".format(**my_dict))"
      ],
      "metadata": {
        "id": "VQJ2tP4DQ22Z",
        "colab": {
          "base_uri": "https://localhost:8080/"
        },
        "outputId": "208d3dfb-60fe-46d2-f2b4-4c42fbded7f3"
      },
      "id": "VQJ2tP4DQ22Z",
      "execution_count": 24,
      "outputs": [
        {
          "output_type": "stream",
          "name": "stdout",
          "text": [
            "My name is Sai. My major is Business Analytics. My favourite artist is Monet. My favourite food is Udon.\n"
          ]
        }
      ]
    },
    {
      "metadata": {
        "id": "8476f31e2c9c2da7"
      },
      "cell_type": "markdown",
      "source": [
        "## Exercise 4 -- Type Conversion\n",
        "We can use functions like `int()`, `float()`, and `str()` to convert from one type into another. Use them to complete the following tasks:\n",
        "1. Define a variable called `revenue` that is equal to price times quanitity. You can only use the strings that are already defined, the conversion functions above, and the `*` operator.\n",
        "2. Use `str()` to convert `revenue` into a string with a dollar sign in fron. Call this new variable `revenue_string` and print it.\n",
        "\n",
        "\n",
        "**Hint:** How can you remove the dollar sign before conversion?\n"
      ],
      "id": "8476f31e2c9c2da7"
    },
    {
      "metadata": {
        "colab": {
          "base_uri": "https://localhost:8080/"
        },
        "id": "c0fe320082e8d0dd",
        "outputId": "4c26b064-4a1f-4681-bbab-7e23c1b79d37"
      },
      "cell_type": "code",
      "source": [
        "# Exercise 4 Code\n",
        "price_string  = \"$7.50\" # don't edit\n",
        "quantity_string = \"10\" # don't edit\n",
        "\n",
        "# your code here\n",
        "\n",
        "print(type(quantity_string))\n",
        "print(type(price_string))\n"
      ],
      "id": "c0fe320082e8d0dd",
      "outputs": [
        {
          "output_type": "stream",
          "name": "stdout",
          "text": [
            "<class 'str'>\n",
            "<class 'str'>\n"
          ]
        }
      ],
      "execution_count": null
    },
    {
      "cell_type": "code",
      "source": [
        "revenue = float(price_string[1:])*int(quantity_string)"
      ],
      "metadata": {
        "id": "sYEEa7hJVXHl"
      },
      "id": "sYEEa7hJVXHl",
      "execution_count": null,
      "outputs": []
    },
    {
      "cell_type": "code",
      "source": [
        "print(revenue)"
      ],
      "metadata": {
        "colab": {
          "base_uri": "https://localhost:8080/"
        },
        "id": "yl6oDVSMVpRK",
        "outputId": "a35bf4db-d786-4cc4-dcd2-933a9f8cefe7"
      },
      "id": "yl6oDVSMVpRK",
      "execution_count": null,
      "outputs": [
        {
          "output_type": "stream",
          "name": "stdout",
          "text": [
            "75.0\n"
          ]
        }
      ]
    },
    {
      "metadata": {
        "id": "9571d4b7f5224303"
      },
      "cell_type": "markdown",
      "source": [
        "## Exercise 5 -- Modules and Very Basic Plotting\n",
        "Complete the following steps in the cells below:\n",
        "1. Import the `math` module and give it an alias of `mt`.\n",
        "2. Import the `matplotlib.pyplot` module and give it an alias of `plt`.\n",
        "3. Create a variable named `num_range` and set it equal to a range of numbers from 0 to 1000 (including 1000).\n",
        "4. Using `num_range` and a list comprehension, create a list called `sine_list` that is equal to `sin((pi/100) * x)` for every `x` in the range `num_range`. (**Hint:** sin and pi are objects from the math library.)\n",
        "5. Finally, using `plt`, `num_range`, and `sine_list`, generate a line plot."
      ],
      "id": "9571d4b7f5224303"
    },
    {
      "metadata": {
        "id": "d8495aeebf9b755f"
      },
      "cell_type": "code",
      "source": [
        "# Exercise 5 Code\n",
        "import matplotlib.pyplot as plt\n",
        "import math as mt\n",
        "\n",
        "num_range = range(0,1000+1)\n",
        "sine_list = [mt.sin((mt.pi/100) * x) for x in num_range]\n"
      ],
      "id": "d8495aeebf9b755f",
      "outputs": [],
      "execution_count": 40
    },
    {
      "metadata": {
        "id": "329bdb885f4a56c",
        "colab": {
          "base_uri": "https://localhost:8080/",
          "height": 447
        },
        "outputId": "7ef590ac-4e33-4562-d4a1-86634ef4b746"
      },
      "cell_type": "code",
      "source": [
        "plt.plot(num_range, sine_list)"
      ],
      "id": "329bdb885f4a56c",
      "outputs": [
        {
          "output_type": "execute_result",
          "data": {
            "text/plain": [
              "[<matplotlib.lines.Line2D at 0x7c4bb41646a0>]"
            ]
          },
          "metadata": {},
          "execution_count": 42
        },
        {
          "output_type": "display_data",
          "data": {
            "text/plain": [
              "<Figure size 640x480 with 1 Axes>"
            ],
            "image/png": "[encoded data removed]"
          },
          "metadata": {}
        }
      ],
      "execution_count": 42
    },
    {
      "cell_type": "code",
      "source": [],
      "metadata": {
        "id": "qUnq2hJtCNt5"
      },
      "id": "qUnq2hJtCNt5",
      "execution_count": null,
      "outputs": []
    }
  ],
  "metadata": {
    "kernelspec": {
      "display_name": "Python 3",
      "language": "python",
      "name": "python3"
    },
    "language_info": {
      "codemirror_mode": {
        "name": "ipython",
        "version": 2
      },
      "file_extension": ".py",
      "mimetype": "text/x-python",
      "name": "python",
      "nbconvert_exporter": "python",
      "pygments_lexer": "ipython2",
      "version": "2.7.6"
    },
    "colab": {
      "provenance": []
    }
  },
  "nbformat": 4,
  "nbformat_minor": 5
}