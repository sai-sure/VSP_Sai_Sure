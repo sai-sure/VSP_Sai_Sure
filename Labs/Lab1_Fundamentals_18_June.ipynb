{
  "cells": [
    {
      "cell_type": "markdown",
      "id": "fea96cfa",
      "metadata": {
        "id": "fea96cfa"
      },
      "source": [
        "# Lab Assignment 1 -- Fundamentals\n",
        "In this lab, you will complete a series of exercises related to the lecture material on coding fundamentals and collections.\n",
        "\n",
        "Since this is the first lab that involves coding, we will begin with an exercise related to Jupyter notebook functionality."
      ]
    },
    {
      "cell_type": "markdown",
      "id": "5b0e6098",
      "metadata": {
        "id": "5b0e6098"
      },
      "source": [
        "## Exercise 1 -- Jupyter Markdown Basics\n",
        "Jupyter notebooks allows cells to be interpreted as either code or Markdown. Markdown is a lightweight formatting language. In fact, what you're reading right now is written in Markdown. The syntax is very simple and a reference for common commands can be found [here](https://www.markdownguide.org/cheat-sheet/). Use this reference guide to complete the following steps:\n",
        "\n",
        "1. Create a cell below this one by using the insert drop down menu or by clicking on the left of this box (so the side bar turns blue) and tapping the <kbd>b</kbd> key.\n",
        "2. Make the cell a Markdown cell by clicking on it and using the drop down menu above.\n",
        "3. Using the reference guide, find out how to create the **smallest** heading  and use it give the cell you create a header of \"Solution to Exercise 1\" without the quotes.\n",
        "4. Using the reference guide, figure out how to make ordered and unordered lists. Using an unordered list, list three of the things you hope to learn from this class.\n",
        "5. Sometimes, we want to reference specific code or code objects in the text of Markdown. Markdown allows us to format such reference so that it appears in a gray box (e.g. `x=3`). Using the reference guide, figure out how to format code and format  x = 3, so it has a gray box around it in the cell you created."
      ]
    },
    {
      "cell_type": "markdown",
      "source": [
        "######Solution to exercise 1"
      ],
      "metadata": {
        "id": "Ra0CFqMr1kKR"
      },
      "id": "Ra0CFqMr1kKR"
    },
    {
      "cell_type": "code",
      "source": [],
      "metadata": {
        "id": "suWA-Ocn18ME"
      },
      "id": "suWA-Ocn18ME",
      "execution_count": null,
      "outputs": []
    },
    {
      "cell_type": "markdown",
      "source": [
        "###What I hope to learn from this class\n",
        "- Basic understanding of Python\n",
        "- How to create graphical displays from datasets using Python\n",
        "- How to troubleshoot when coming across errors in code"
      ],
      "metadata": {
        "id": "sYHy5ji4zjdx"
      },
      "id": "sYHy5ji4zjdx"
    },
    {
      "cell_type": "markdown",
      "source": [
        "> Formating x =3\n",
        "\n",
        "`x=3`"
      ],
      "metadata": {
        "id": "mTRvlvKX0lRg"
      },
      "id": "mTRvlvKX0lRg"
    },
    {
      "cell_type": "markdown",
      "id": "7835167d",
      "metadata": {
        "id": "7835167d"
      },
      "source": [
        "## Exercise 2 -- Basic Variable Assignment\n",
        "Complete the following steps in the cells below.\n",
        "1. Generate a variable called `x_flt` and set it equal to 3.0. Print its type.\n",
        "2. Generate a variable called `x_int` and set it equal to 3. Print its type.\n",
        "3. Generate a variable called  `x_str` and set it equal to \"3\". Print its type.\n",
        "4. Which of these two variables can you add together with the `+` operator? Why? Answer in the Markdown cell below."
      ]
    },
    {
      "cell_type": "code",
      "id": "8c80cd8e",
      "metadata": {
        "colab": {
          "base_uri": "https://localhost:8080/"
        },
        "id": "8c80cd8e",
        "outputId": "75398f9c-7bab-4a7f-cf88-4a130670ed8b"
      },
      "source": [
        "# Exercise 2 Code\n",
        "x_flt = 3.0\n",
        "print(type(x_flt))\n",
        "\n",
        "x_int = 3\n",
        "print(type(x_int))\n",
        "\n",
        "x_str = \"3\"\n",
        "print(type(x_str))\n"
      ],
      "outputs": [
        {
          "output_type": "stream",
          "name": "stdout",
          "text": [
            "<class 'float'>\n",
            "<class 'int'>\n",
            "<class 'str'>\n"
          ]
        }
      ],
      "execution_count": 2
    },
    {
      "cell_type": "markdown",
      "id": "70b8adf0",
      "metadata": {
        "id": "70b8adf0"
      },
      "source": [
        "### Response to 2.4\n",
        "\n",
        "You can only add the variables `x_flt` (float) and `x_int` (integer) together. This is because they are considered as numerical values. Whereas, `x_str` is a string, so it has no numerical value attached to it."
      ]
    },
    {
      "cell_type": "markdown",
      "id": "9db99652",
      "metadata": {
        "id": "9db99652"
      },
      "source": [
        "## Exercise 3 -- Variable Reassignment\n",
        "Complete the following steps in the cells below.\n",
        "1. Assign `x` equal to `\"good\"`\n",
        "2. Assign `y` equal to `x`\n",
        "3. Reassign `x` to `\"bad\"`\n",
        "4. Use `print` to print `y`\n",
        "5. Does the print statement print \"good\" or a \"bad\"? Did changing `x` to \"bad\" affect anything? Why or why not? Answer in the Markdown cell below."
      ]
    },
    {
      "cell_type": "code",
      "id": "9c154552",
      "metadata": {
        "scrolled": true,
        "colab": {
          "base_uri": "https://localhost:8080/"
        },
        "id": "9c154552",
        "outputId": "c54a3cd7-8588-48c5-ec0f-2435e9daf723"
      },
      "source": [
        "# Exercise 3 Code\n",
        "x= 'good'\n",
        "y = x\n",
        "x = 'bad'\n",
        "print(y)"
      ],
      "outputs": [
        {
          "output_type": "stream",
          "name": "stdout",
          "text": [
            "good\n"
          ]
        }
      ],
      "execution_count": 6
    },
    {
      "cell_type": "markdown",
      "id": "b24737e5",
      "metadata": {
        "id": "b24737e5"
      },
      "source": [
        "### Response to 3.5\n",
        "\n",
        "The print statement prints \"good\". Changing `x` to \"bad\" does not affect `y` because `x` was changed *after* `y` was assigned."
      ]
    },
    {
      "cell_type": "markdown",
      "id": "4700d845",
      "metadata": {
        "id": "4700d845"
      },
      "source": [
        "## Exercise 4 -- Basic Arithmetic\n",
        "Generate the following variables with the corresponding value in the cell below:\n",
        "1. `x` equal to 20\n",
        "2. `y` equal to 10\n",
        "3. `z1` equal to the sum of `x` and `y`\n",
        "4. `z2` equal to `x` minus `y`\n",
        "5. `z3` equal to `x` times `y`\n",
        "6. `z4` equal to `x` divided by `y`\n",
        "\n",
        "Answer the following question in the Markdown Cell Below\n",
        "\n",
        "7. Use `type()` to deterimine which of these variables is a floating point number? Why is this the case?"
      ]
    },
    {
      "cell_type": "code",
      "id": "564b49ec",
      "metadata": {
        "colab": {
          "base_uri": "https://localhost:8080/"
        },
        "id": "564b49ec",
        "outputId": "b5a75338-ed5d-4e6f-bf7c-2d099025bec8"
      },
      "source": [
        "# Exercise 4 Code\n",
        "x = 20\n",
        "print(type(x))\n",
        "y = 10\n",
        "print(type(y))\n",
        "z1 = x+y\n",
        "print(type(z1))\n",
        "z2 = x-y\n",
        "print(type(z2))\n",
        "z3 = x*y\n",
        "print(type(z3))\n",
        "z4 = x/y\n",
        "print(type(z4))"
      ],
      "outputs": [
        {
          "output_type": "stream",
          "name": "stdout",
          "text": [
            "<class 'int'>\n",
            "<class 'int'>\n",
            "<class 'int'>\n",
            "<class 'int'>\n",
            "<class 'int'>\n",
            "<class 'float'>\n",
            "2.0\n"
          ]
        }
      ],
      "execution_count": 12
    },
    {
      "cell_type": "markdown",
      "id": "ac2063f9",
      "metadata": {
        "id": "ac2063f9"
      },
      "source": [
        "### Response to 4.7\n",
        "\n",
        "Using `type()` I was able to determine that `z4` was a floating point number. This is because while `x` and `y` are both integers, dividing them together using python actually creates a decimal or floating number."
      ]
    },
    {
      "metadata": {
        "id": "2024ad69c823f131"
      },
      "cell_type": "markdown",
      "source": [
        "## Exercise 5 -- String Formatting\n",
        "Complete the following steps in the cell below:\n",
        "1. Define a list called `cities` that contains the names of three cities you would like to visit.\n",
        "2. Define a corresponding list called `countries` where an entry is the country of each of those three cities.\n",
        "3. Using these lists and f strings, print a sentence that says what country a city is in for each city in your list\n",
        "4. Now do the same thing again but use the `.format()` method instead of f strings."
      ],
      "id": "2024ad69c823f131"
    },
    {
      "metadata": {
        "colab": {
          "base_uri": "https://localhost:8080/"
        },
        "id": "4bb3c5643a0ee99e",
        "outputId": "dfebd3d0-37a6-4f2e-a9cf-e7a4da4a7f82"
      },
      "cell_type": "code",
      "source": [
        "# Exercise 5 Code\n",
        "cities = [\"Rome\", \"Reykjavík\", \"Kathmandu\"]\n",
        "countries = [\"Italy\", \"Iceland\", \"Nepal\"]\n",
        "\n",
        "#f string method\n",
        "idx = 0\n",
        "cities[idx]\n",
        "countries[idx]\n",
        "string_1a = f\"{cities[idx]} is in {countries[idx]}.\"\n",
        "print(string_1a)\n",
        "\n",
        "idx = 1\n",
        "string_2a = f\"{cities[idx]} is in {countries[idx]}\"\n",
        "print(string_2a)\n",
        "\n",
        "idx = 2\n",
        "string_3a = f\"{cities[idx]} is in {countries[idx]}\"\n",
        "print(string_3a)\n",
        "\n",
        "# .format() method\n",
        "idx = 0\n",
        "string_1b = \"{cities} is in {countries}.\"\n",
        "print(string_1b.format(cities = cities[idx], countries = countries[idx]))\n",
        "\n",
        "idx = 1\n",
        "string_2b = \"{cities} is in {countries}.\"\n",
        "print(string_2b.format(cities = cities[idx], countries = countries[idx]))\n",
        "\n",
        "idx = 2\n",
        "string_3b = \"{cities} is in {countries}.\"\n",
        "print(string_3b.format(cities = cities[idx], countries = countries[idx]))"
      ],
      "id": "4bb3c5643a0ee99e",
      "outputs": [
        {
          "output_type": "stream",
          "name": "stdout",
          "text": [
            "Rome is in Italy.\n",
            "Reykjavík is in Iceland\n",
            "Kathmandu is in Nepal\n",
            "Rome is in Italy.\n",
            "Reykjavík is in Iceland.\n",
            "Kathmandu is in Nepal.\n"
          ]
        }
      ],
      "execution_count": 22
    },
    {
      "metadata": {
        "id": "fce68f68177b1995"
      },
      "cell_type": "markdown",
      "source": [
        "## Exercise 6 -- String Concatenation\n",
        "Complete the following steps in the cell below:\n",
        "1. Assign `b` to be equal to \"b\"\n",
        "2. Assign `a` to be equal to \"a\"\n",
        "3. Assign `n` to be equal to \"n\"\n",
        "4. Using these variables, `+`, and `print`, print the the word \"banana\""
      ],
      "id": "fce68f68177b1995"
    },
    {
      "metadata": {
        "colab": {
          "base_uri": "https://localhost:8080/"
        },
        "id": "7cd33ad42612cc2",
        "outputId": "3be67efe-836c-4230-b3cb-364c22d460ac"
      },
      "cell_type": "code",
      "source": [
        "# Exercise 6 Code\n",
        "b = 'b'\n",
        "a = 'a'\n",
        "n = 'n'\n",
        "\n",
        "print(b + a + n + a + n + a)"
      ],
      "id": "7cd33ad42612cc2",
      "outputs": [
        {
          "output_type": "stream",
          "name": "stdout",
          "text": [
            "banana\n"
          ]
        }
      ],
      "execution_count": 23
    },
    {
      "metadata": {
        "id": "293a4c9fc698f9d9"
      },
      "cell_type": "markdown",
      "source": [
        "## Exercise 7 -- Boolean Variable Keywords\n",
        "Assign `a`, `b`,`c`, and `d`, so that every print statement below is true.\n",
        "\n",
        "\n",
        "Afterwards, answer the following quesiton in the Markdown cell below:\n",
        "\n",
        "Is the configuration of `a`, `b`,`c`, and `d` that makes both statements true unique? Why or why not? If it isn't unique, add another print statement to the list to rule out other configurations?"
      ],
      "id": "293a4c9fc698f9d9"
    },
    {
      "metadata": {
        "id": "6a5495628c88bf25"
      },
      "cell_type": "code",
      "source": [
        "# Exercise 7 Code\n",
        "a = True\n",
        "b = False\n",
        "c = False\n",
        "d = False"
      ],
      "id": "6a5495628c88bf25",
      "outputs": [],
      "execution_count": 45
    },
    {
      "metadata": {
        "colab": {
          "base_uri": "https://localhost:8080/"
        },
        "id": "5c6037cdfe69c6aa",
        "outputId": "d54e6b76-6121-4941-8ec9-c7ad90946505"
      },
      "cell_type": "code",
      "source": [
        "# Uncomment the lines below when you have defined the variables to check your results\n",
        "print(((a and b) or (c and d)) == False)\n",
        "print(((a or c) and (b or d)) == False)\n",
        "print(a and (not b) and (not c) and (not d))"
      ],
      "id": "5c6037cdfe69c6aa",
      "outputs": [
        {
          "output_type": "stream",
          "name": "stdout",
          "text": [
            "True\n",
            "True\n",
            "True\n"
          ]
        }
      ],
      "execution_count": 46
    },
    {
      "cell_type": "markdown",
      "source": [
        "###Response to 7\n",
        "\n",
        "I think that the configuraiton of the first print statement is the inverse of the second print statement. So the configurations making them true is not unique.\n",
        "\n",
        "However the third print statement is unique to the first two."
      ],
      "metadata": {
        "id": "3Q6MHg60-IFS"
      },
      "id": "3Q6MHg60-IFS"
    },
    {
      "cell_type": "code",
      "source": [],
      "metadata": {
        "id": "EWa2VTLtAlCg"
      },
      "id": "EWa2VTLtAlCg",
      "execution_count": null,
      "outputs": []
    }
  ],
  "metadata": {
    "kernelspec": {
      "display_name": "Python 3 (ipykernel)",
      "language": "python",
      "name": "python3"
    },
    "language_info": {
      "codemirror_mode": {
        "name": "ipython",
        "version": 3
      },
      "file_extension": ".py",
      "mimetype": "text/x-python",
      "name": "python",
      "nbconvert_exporter": "python",
      "pygments_lexer": "ipython3",
      "version": "3.9.15"
    },
    "colab": {
      "provenance": []
    }
  },
  "nbformat": 4,
  "nbformat_minor": 5
}