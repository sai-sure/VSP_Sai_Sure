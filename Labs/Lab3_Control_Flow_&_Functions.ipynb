{
  "cells": [
    {
      "cell_type": "markdown",
      "id": "b557d379",
      "metadata": {
        "id": "b557d379"
      },
      "source": [
        "# Lab Assignment 3 -- Control Flow & Functions\n",
        "In this lab, you will complete a series of exercises related to the lecture material on control flow and functions."
      ]
    },
    {
      "cell_type": "markdown",
      "id": "f2d3f549",
      "metadata": {
        "id": "f2d3f549"
      },
      "source": [
        "## Exercise 1a -- Divisible by n\n",
        "Define a function called `divisible_by_n()` that takes two inputs:\n",
        "- a range\n",
        "- a single integer (the n)\n",
        "\n",
        "By default, the single integer argument should be equal to 2 if only one argument is provided.\n",
        "\n",
        "You function should return a list of all numbers in the input range that are divisible by `n`.\n",
        "\n",
        "Include a function description for your function using docstrings.\n",
        "\n",
        "**Hints**\n",
        "- You can use `%` (for modular arithmetic) or you can use `math.round()` to check if a number is divisible by 3.\n",
        "- Think about whether you should to use a `for` loop or a `while` loop."
      ]
    },
    {
      "cell_type": "code",
      "id": "a6113693",
      "metadata": {
        "id": "a6113693"
      },
      "source": [
        "# Exercise 1a\n",
        "def divisible_by_n(num_range, n):\n",
        "    divis_list = []\n",
        "    for num in num_range:\n",
        "        if num % n == 0:\n",
        "            divis_list.append(num)\n",
        "    return divis_list\n"
      ],
      "outputs": [],
      "execution_count": 2
    },
    {
      "cell_type": "code",
      "id": "c8c3a0a6",
      "metadata": {
        "colab": {
          "base_uri": "https://localhost:8080/"
        },
        "id": "c8c3a0a6",
        "outputId": "973f9f3b-ccd2-4bdf-bdb0-06687f6753ee"
      },
      "source": [
        "print(divisible_by_n(range(100), 3))"
      ],
      "outputs": [
        {
          "output_type": "stream",
          "name": "stdout",
          "text": [
            "[0, 3, 6, 9, 12, 15, 18, 21, 24, 27, 30, 33, 36, 39, 42, 45, 48, 51, 54, 57, 60, 63, 66, 69, 72, 75, 78, 81, 84, 87, 90, 93, 96, 99]\n"
          ]
        }
      ],
      "execution_count": 3
    },
    {
      "cell_type": "code",
      "source": [
        "divisible_by_n?\n",
        "\n",
        "#Signature: divisible_by_n(num_range, n)\n",
        "#Docstring: <no docstring>\n",
        "#File:      /content/<ipython-input-1-92bb4bed1fae>\n",
        "#Type:      function"
      ],
      "metadata": {
        "id": "XJIhV0gzhd3n"
      },
      "id": "XJIhV0gzhd3n",
      "execution_count": 4,
      "outputs": []
    },
    {
      "cell_type": "markdown",
      "id": "d8d77670",
      "metadata": {
        "id": "d8d77670"
      },
      "source": [
        "## Exercise 1b -- Big Lists\n",
        "`%timeit` in the code below is what is known as an IPython magic function. IPython stands for Interactive Python and simply refers to a version of the Python (and other coding languages) environment that has more functionality than the standard one. In particular, this functionality makes Python easier to interact with if we want to explore data, test functions, etc. Jupyter is built on IPython.\n",
        "\n",
        "`%timeit` runs the code that follows it many times to get a sense of how long the code takes to run. Below, we use it to time how long `divide_by_n` takes on two ranges of different lengths.\n",
        "\n",
        "Run the cell and answer the following questions in a Markdown cell:\n",
        "1. Which range takes longer to get through? By how many times longer does it take? Does this make sense to you? What does it say about how the time of computation is affected by the length of the range?\n",
        "2. Would your function work with a list instead of a range? Why or why not?\n",
        "\n",
        "**Hint:** $\\mu s$ means microseconds"
      ]
    },
    {
      "cell_type": "code",
      "id": "3de20bc7",
      "metadata": {
        "colab": {
          "base_uri": "https://localhost:8080/"
        },
        "id": "3de20bc7",
        "outputId": "7bcb2471-f0e5-4899-f72c-92bfb1714d34"
      },
      "source": [
        "# Exercise 1b -- don't edit this cell\n",
        "%timeit divisible_by_n(range(1_001), 3)\n",
        "%timeit divisible_by_n(range(10_001), 3)"
      ],
      "outputs": [
        {
          "output_type": "stream",
          "name": "stdout",
          "text": [
            "186 µs ± 20.6 µs per loop (mean ± std. dev. of 7 runs, 1000 loops each)\n",
            "1.34 ms ± 344 µs per loop (mean ± std. dev. of 7 runs, 1000 loops each)\n"
          ]
        }
      ],
      "execution_count": 5
    },
    {
      "cell_type": "code",
      "source": [
        "# Exercise 1b question 2\n",
        "def divide_by_n(num_list, n):\n",
        "    divis_list = []\n",
        "    for num in num_list:\n",
        "        if num % n == 0:\n",
        "            divis_list.append(num)\n",
        "    return divis_list\n",
        "\n",
        "divide_by_n(list(range(1, 1001)), 3)\n",
        "divide_by_n(list(range(10, 1001)), 3)"
      ],
      "metadata": {
        "id": "qI226DG3nUdr",
        "colab": {
          "base_uri": "https://localhost:8080/"
        },
        "outputId": "1d147420-b4de-47c4-a418-9cbee9298003"
      },
      "id": "qI226DG3nUdr",
      "execution_count": 6,
      "outputs": [
        {
          "output_type": "execute_result",
          "data": {
            "text/plain": [
              "[12,\n",
              " 15,\n",
              " 18,\n",
              " 21,\n",
              " 24,\n",
              " 27,\n",
              " 30,\n",
              " 33,\n",
              " 36,\n",
              " 39,\n",
              " 42,\n",
              " 45,\n",
              " 48,\n",
              " 51,\n",
              " 54,\n",
              " 57,\n",
              " 60,\n",
              " 63,\n",
              " 66,\n",
              " 69,\n",
              " 72,\n",
              " 75,\n",
              " 78,\n",
              " 81,\n",
              " 84,\n",
              " 87,\n",
              " 90,\n",
              " 93,\n",
              " 96,\n",
              " 99,\n",
              " 102,\n",
              " 105,\n",
              " 108,\n",
              " 111,\n",
              " 114,\n",
              " 117,\n",
              " 120,\n",
              " 123,\n",
              " 126,\n",
              " 129,\n",
              " 132,\n",
              " 135,\n",
              " 138,\n",
              " 141,\n",
              " 144,\n",
              " 147,\n",
              " 150,\n",
              " 153,\n",
              " 156,\n",
              " 159,\n",
              " 162,\n",
              " 165,\n",
              " 168,\n",
              " 171,\n",
              " 174,\n",
              " 177,\n",
              " 180,\n",
              " 183,\n",
              " 186,\n",
              " 189,\n",
              " 192,\n",
              " 195,\n",
              " 198,\n",
              " 201,\n",
              " 204,\n",
              " 207,\n",
              " 210,\n",
              " 213,\n",
              " 216,\n",
              " 219,\n",
              " 222,\n",
              " 225,\n",
              " 228,\n",
              " 231,\n",
              " 234,\n",
              " 237,\n",
              " 240,\n",
              " 243,\n",
              " 246,\n",
              " 249,\n",
              " 252,\n",
              " 255,\n",
              " 258,\n",
              " 261,\n",
              " 264,\n",
              " 267,\n",
              " 270,\n",
              " 273,\n",
              " 276,\n",
              " 279,\n",
              " 282,\n",
              " 285,\n",
              " 288,\n",
              " 291,\n",
              " 294,\n",
              " 297,\n",
              " 300,\n",
              " 303,\n",
              " 306,\n",
              " 309,\n",
              " 312,\n",
              " 315,\n",
              " 318,\n",
              " 321,\n",
              " 324,\n",
              " 327,\n",
              " 330,\n",
              " 333,\n",
              " 336,\n",
              " 339,\n",
              " 342,\n",
              " 345,\n",
              " 348,\n",
              " 351,\n",
              " 354,\n",
              " 357,\n",
              " 360,\n",
              " 363,\n",
              " 366,\n",
              " 369,\n",
              " 372,\n",
              " 375,\n",
              " 378,\n",
              " 381,\n",
              " 384,\n",
              " 387,\n",
              " 390,\n",
              " 393,\n",
              " 396,\n",
              " 399,\n",
              " 402,\n",
              " 405,\n",
              " 408,\n",
              " 411,\n",
              " 414,\n",
              " 417,\n",
              " 420,\n",
              " 423,\n",
              " 426,\n",
              " 429,\n",
              " 432,\n",
              " 435,\n",
              " 438,\n",
              " 441,\n",
              " 444,\n",
              " 447,\n",
              " 450,\n",
              " 453,\n",
              " 456,\n",
              " 459,\n",
              " 462,\n",
              " 465,\n",
              " 468,\n",
              " 471,\n",
              " 474,\n",
              " 477,\n",
              " 480,\n",
              " 483,\n",
              " 486,\n",
              " 489,\n",
              " 492,\n",
              " 495,\n",
              " 498,\n",
              " 501,\n",
              " 504,\n",
              " 507,\n",
              " 510,\n",
              " 513,\n",
              " 516,\n",
              " 519,\n",
              " 522,\n",
              " 525,\n",
              " 528,\n",
              " 531,\n",
              " 534,\n",
              " 537,\n",
              " 540,\n",
              " 543,\n",
              " 546,\n",
              " 549,\n",
              " 552,\n",
              " 555,\n",
              " 558,\n",
              " 561,\n",
              " 564,\n",
              " 567,\n",
              " 570,\n",
              " 573,\n",
              " 576,\n",
              " 579,\n",
              " 582,\n",
              " 585,\n",
              " 588,\n",
              " 591,\n",
              " 594,\n",
              " 597,\n",
              " 600,\n",
              " 603,\n",
              " 606,\n",
              " 609,\n",
              " 612,\n",
              " 615,\n",
              " 618,\n",
              " 621,\n",
              " 624,\n",
              " 627,\n",
              " 630,\n",
              " 633,\n",
              " 636,\n",
              " 639,\n",
              " 642,\n",
              " 645,\n",
              " 648,\n",
              " 651,\n",
              " 654,\n",
              " 657,\n",
              " 660,\n",
              " 663,\n",
              " 666,\n",
              " 669,\n",
              " 672,\n",
              " 675,\n",
              " 678,\n",
              " 681,\n",
              " 684,\n",
              " 687,\n",
              " 690,\n",
              " 693,\n",
              " 696,\n",
              " 699,\n",
              " 702,\n",
              " 705,\n",
              " 708,\n",
              " 711,\n",
              " 714,\n",
              " 717,\n",
              " 720,\n",
              " 723,\n",
              " 726,\n",
              " 729,\n",
              " 732,\n",
              " 735,\n",
              " 738,\n",
              " 741,\n",
              " 744,\n",
              " 747,\n",
              " 750,\n",
              " 753,\n",
              " 756,\n",
              " 759,\n",
              " 762,\n",
              " 765,\n",
              " 768,\n",
              " 771,\n",
              " 774,\n",
              " 777,\n",
              " 780,\n",
              " 783,\n",
              " 786,\n",
              " 789,\n",
              " 792,\n",
              " 795,\n",
              " 798,\n",
              " 801,\n",
              " 804,\n",
              " 807,\n",
              " 810,\n",
              " 813,\n",
              " 816,\n",
              " 819,\n",
              " 822,\n",
              " 825,\n",
              " 828,\n",
              " 831,\n",
              " 834,\n",
              " 837,\n",
              " 840,\n",
              " 843,\n",
              " 846,\n",
              " 849,\n",
              " 852,\n",
              " 855,\n",
              " 858,\n",
              " 861,\n",
              " 864,\n",
              " 867,\n",
              " 870,\n",
              " 873,\n",
              " 876,\n",
              " 879,\n",
              " 882,\n",
              " 885,\n",
              " 888,\n",
              " 891,\n",
              " 894,\n",
              " 897,\n",
              " 900,\n",
              " 903,\n",
              " 906,\n",
              " 909,\n",
              " 912,\n",
              " 915,\n",
              " 918,\n",
              " 921,\n",
              " 924,\n",
              " 927,\n",
              " 930,\n",
              " 933,\n",
              " 936,\n",
              " 939,\n",
              " 942,\n",
              " 945,\n",
              " 948,\n",
              " 951,\n",
              " 954,\n",
              " 957,\n",
              " 960,\n",
              " 963,\n",
              " 966,\n",
              " 969,\n",
              " 972,\n",
              " 975,\n",
              " 978,\n",
              " 981,\n",
              " 984,\n",
              " 987,\n",
              " 990,\n",
              " 993,\n",
              " 996,\n",
              " 999]"
            ]
          },
          "metadata": {},
          "execution_count": 6
        }
      ]
    },
    {
      "cell_type": "code",
      "source": [
        "print(103*10000)\n",
        "print(1210*1000)"
      ],
      "metadata": {
        "colab": {
          "base_uri": "https://localhost:8080/"
        },
        "id": "hLrwHZnuiuDZ",
        "outputId": "f18c7ef6-af75-492b-b588-0b11843061e7"
      },
      "id": "hLrwHZnuiuDZ",
      "execution_count": 7,
      "outputs": [
        {
          "output_type": "stream",
          "name": "stdout",
          "text": [
            "1030000\n",
            "1210000\n"
          ]
        }
      ]
    },
    {
      "cell_type": "markdown",
      "source": [
        "\n",
        "###Response to 1B\n",
        "\n",
        "1.   The second range `range(10_001,3)` takes longer to get through. For each loop it takes on average 1107 µs longer. For the entire computation the second range takes 180000 µs or 180 ms longer. At first it didn't make a lot of sense until I realised that the range for the first one is 0 - 1000 and the second is 0 - 10000. Therefore, it can be said that the longer the range length, the longer it takes for the computation to finish.\n",
        "2.   If you change the `divisible_by_n(range(1_001), 3)` into a `divisible_by_n(list[1:1001], 3)`. It will not work because the original function in exercise 1a requires a `num_range`. However, using `divide_by_n(list(range(1, 1001)), 3)` will work.\n",
        "\n",
        "\n"
      ],
      "metadata": {
        "id": "xj4wGn8fiYuZ"
      },
      "id": "xj4wGn8fiYuZ"
    },
    {
      "cell_type": "code",
      "source": [],
      "metadata": {
        "id": "U_q0O331oy_n"
      },
      "id": "U_q0O331oy_n",
      "execution_count": null,
      "outputs": []
    },
    {
      "cell_type": "markdown",
      "id": "34af43ec",
      "metadata": {
        "id": "34af43ec"
      },
      "source": [
        "## Exercise 2 -- Function Objects vs. Function Calls\n",
        "`sum()` is a function that can take some iterables and return the sum of elements in that iterable. In the Markdown cell below, answer the following questions.\n",
        "1. What types is `sum`?\n",
        "2. What type is `sum([1,2,3])`? How about `sum([1,2.0,3])`?\n",
        "3. Are the types of these three objects the same or different? Why?\n",
        "4. What is the type of `print(\"hello\")`? Why?\n"
      ]
    },
    {
      "cell_type": "code",
      "id": "ce7e11cd",
      "metadata": {
        "colab": {
          "base_uri": "https://localhost:8080/"
        },
        "id": "ce7e11cd",
        "outputId": "f2a6f51c-35d9-4f29-e592-2a641cbba595"
      },
      "source": [
        "# If needed, you can call the type function on these objects to help answer the question\n",
        "\n",
        "result = print(\"hello\")\n",
        "print(result)\n",
        "print(type(\"hello\"))"
      ],
      "outputs": [
        {
          "output_type": "stream",
          "name": "stdout",
          "text": [
            "hello\n",
            "None\n",
            "<class 'str'>\n"
          ]
        }
      ],
      "execution_count": 8
    },
    {
      "cell_type": "code",
      "source": [
        "print(range(1_001))\n",
        "print(range(10_001))"
      ],
      "metadata": {
        "colab": {
          "base_uri": "https://localhost:8080/"
        },
        "id": "buSuIdmOjlLL",
        "outputId": "caa4436d-e105-4c22-ca66-6f2d3a5724d6"
      },
      "id": "buSuIdmOjlLL",
      "execution_count": 9,
      "outputs": [
        {
          "output_type": "stream",
          "name": "stdout",
          "text": [
            "range(0, 1001)\n",
            "range(0, 10001)\n"
          ]
        }
      ]
    },
    {
      "cell_type": "markdown",
      "id": "708ca789",
      "metadata": {
        "id": "708ca789"
      },
      "source": [
        "### Reponse to Exercise 2\n",
        "\n",
        "\n",
        "1.   `sum` is a built-in function\n",
        "2.   `sum([1,2,3])` is an integer and `sum([1,2.0,3])` is a float (because of the decimal point)\n",
        "3.   These three objects are all different types, however, integers and floats work in similar ways, it's just that floats have decimal points in them. A built-in function is different from an integer and a float because it is a rule and not always a number.\n",
        "4.   The type for `print(\"hello\")` is NoneType. The reason this is not a string is because it includes the built-in function `print`. If the object was only `\"hello\"` than it would be classed as a string.\n"
      ]
    },
    {
      "cell_type": "markdown",
      "id": "18d0aa8e",
      "metadata": {
        "id": "18d0aa8e"
      },
      "source": [
        "# Exercise 3\n",
        "Exercise 3 is a series of six questions\n",
        "## Exercise 3a -- Factorial Function\n",
        "The factorial of an integer n (denoted n! in mathematics) is equal to itself multipled by all of the integers smaller than n. That is\n",
        "$$\n",
        "n! = n * (n-1) * (n-2) *...* 2 * 1\n",
        "$$\n",
        "where $0!$ is defined to be 1.\n",
        "\n",
        "The module `math` already has a factorial function, but you are going to build your own. In the cell below, define a function called `custom_factorial` that takes an integer as an input and returns the factorial of that integer. You must use a loop to calculate the factorial."
      ]
    },
    {
      "cell_type": "code",
      "id": "a6ae690f",
      "metadata": {
        "colab": {
          "base_uri": "https://localhost:8080/"
        },
        "id": "a6ae690f",
        "outputId": "9d0dfd0a-1086-45bc-c42f-5dd68a2cd68c"
      },
      "source": [
        "# Exercise 3a Code\n",
        "def custom_factorial(n):\n",
        "    out = 1\n",
        "    for num in range(1,n+1):\n",
        "        out = out * num\n",
        "    return out\n",
        "\n",
        "custom_factorial(5)"
      ],
      "outputs": [
        {
          "output_type": "execute_result",
          "data": {
            "text/plain": [
              "120"
            ]
          },
          "metadata": {},
          "execution_count": 10
        }
      ],
      "execution_count": 10
    },
    {
      "cell_type": "code",
      "source": [
        "# my code\n",
        "def cust_fact(n):\n",
        "    fact = 1\n",
        "    for num in range(1,n+1):\n",
        "      fact = fact * num\n",
        "    return fact\n",
        "\n",
        "cust_fact(5)"
      ],
      "metadata": {
        "colab": {
          "base_uri": "https://localhost:8080/"
        },
        "id": "hcWWqiBpuROm",
        "outputId": "a52ba2f7-d969-4f0a-e814-9467bc09fca5"
      },
      "id": "hcWWqiBpuROm",
      "execution_count": 11,
      "outputs": [
        {
          "output_type": "execute_result",
          "data": {
            "text/plain": [
              "120"
            ]
          },
          "metadata": {},
          "execution_count": 11
        }
      ]
    },
    {
      "cell_type": "markdown",
      "id": "6a76366f",
      "metadata": {
        "id": "6a76366f"
      },
      "source": [
        "## Exercise 3b -- Checking Your Work\n",
        "Using the `math` module's `factorial` function and a comparison operator, check that your function works for 10!.\n"
      ]
    },
    {
      "cell_type": "code",
      "id": "f52c5077",
      "metadata": {
        "colab": {
          "base_uri": "https://localhost:8080/"
        },
        "id": "f52c5077",
        "outputId": "1345388f-faf5-451c-8c6b-1c3164cbe543"
      },
      "source": [
        "# Exercise 3b Code\n",
        "import math\n",
        "math.factorial(10) == custom_factorial(10)"
      ],
      "outputs": [
        {
          "output_type": "execute_result",
          "data": {
            "text/plain": [
              "True"
            ]
          },
          "metadata": {},
          "execution_count": 12
        }
      ],
      "execution_count": 12
    },
    {
      "cell_type": "code",
      "source": [
        "#my code\n",
        "math.factorial(5) == cust_fact(5)"
      ],
      "metadata": {
        "colab": {
          "base_uri": "https://localhost:8080/"
        },
        "id": "xDBwDw1awpeO",
        "outputId": "7ef7e18e-bc68-4c31-e540-3dbca6199ab0"
      },
      "id": "xDBwDw1awpeO",
      "execution_count": 13,
      "outputs": [
        {
          "output_type": "execute_result",
          "data": {
            "text/plain": [
              "True"
            ]
          },
          "metadata": {},
          "execution_count": 13
        }
      ]
    },
    {
      "cell_type": "markdown",
      "id": "d6933761",
      "metadata": {
        "id": "d6933761"
      },
      "source": [
        "## Exercise 3c -- Nondecreasing Functions\n",
        "A function $f$ is nondecreasing when $f(x) \\geq f(y)$  if and only if $x \\geq y$. Using `matplotlib.pyplot`, and your function plot the factorial function for $n = 0, 1, 2, 3, ..., 20$. You can plot a scatter plot or a line plot.\n",
        "\n",
        "In the Markdown cell below, give another example of a nondecreasing function.\n",
        "\n",
        "**Hint:** Use a a list comprehension."
      ]
    },
    {
      "cell_type": "code",
      "id": "297f61d9",
      "metadata": {
        "colab": {
          "base_uri": "https://localhost:8080/",
          "height": 462
        },
        "id": "297f61d9",
        "outputId": "b386906a-c021-4b33-e0b9-63d346d45aa3"
      },
      "source": [
        "# Exercise 3c Code\n",
        "import matplotlib.pyplot as plt\n",
        "x_coordinates = range(0,21)\n",
        "fact_values = [custom_factorial(x) for x in x_coordinates]\n",
        "plt.plot(x_coordinates, fact_values)"
      ],
      "outputs": [
        {
          "output_type": "execute_result",
          "data": {
            "text/plain": [
              "[<matplotlib.lines.Line2D at 0x7f1a947231c0>]"
            ]
          },
          "metadata": {},
          "execution_count": 14
        },
        {
          "output_type": "display_data",
          "data": {
            "text/plain": [
              "<Figure size 640x480 with 1 Axes>"
            ],
            "image/png": "[encoded data removed]"
          },
          "metadata": {}
        }
      ],
      "execution_count": 14
    },
    {
      "cell_type": "code",
      "source": [
        "#my code\n",
        "x_plane = range(0,21)\n",
        "factorial = [cust_fact(x) for x in x_plane]\n",
        "plt.title(\"Nondecreasing function | Factorials 1-20\")\n",
        "plt.xlabel(\"Factorial number\")\n",
        "plt.plot(x_plane, factorial)"
      ],
      "metadata": {
        "colab": {
          "base_uri": "https://localhost:8080/",
          "height": 489
        },
        "id": "OfGDhH37xFox",
        "outputId": "2d3def4c-30a8-43b9-9dd9-59dd10c7ecce"
      },
      "id": "OfGDhH37xFox",
      "execution_count": 15,
      "outputs": [
        {
          "output_type": "execute_result",
          "data": {
            "text/plain": [
              "[<matplotlib.lines.Line2D at 0x7f1a946327a0>]"
            ]
          },
          "metadata": {},
          "execution_count": 15
        },
        {
          "output_type": "display_data",
          "data": {
            "text/plain": [
              "<Figure size 640x480 with 1 Axes>"
            ],
            "image/png": "[encoded data removed]"
          },
          "metadata": {}
        }
      ]
    },
    {
      "cell_type": "markdown",
      "id": "a97e10da",
      "metadata": {
        "id": "a97e10da"
      },
      "source": [
        "### Response to Exercise 3c\n",
        "\n"
      ]
    },
    {
      "cell_type": "markdown",
      "id": "9f9b870c",
      "metadata": {
        "id": "9f9b870c"
      },
      "source": [
        "## Exercise 3d -- Finding the Smallest Integer\n",
        "For a generic nondecreasing function $f$, we might be interested in finding the smallest integer $n$ such that $f(n)$ is greater than or equal to some constant $c$. In the lecture we did this with $f(n) = n^2$, which is nondecreasing for $n \\geq 0$, and $c = 12345$.\n",
        "\n",
        "Now, define a function calld `find_smallest_int` that takes a starting value `start`, a function `f`, and a constant `c` as inputs. Recognizing that these correspond to the values above, have your function return two values: the smallest integer $n$ such that $f(n) \\geq c$ and the value of $f(n)$ for that integer.\n",
        "\n",
        "**Hint:** If you're stuck, try looking at the lecture."
      ]
    },
    {
      "cell_type": "code",
      "id": "025521ae",
      "metadata": {
        "id": "025521ae"
      },
      "source": [
        "# Exercise 3d Code\n",
        "def find_smallest_int(start, f, c):\n",
        "    while f(start) < c:\n",
        "        start += 1\n",
        "\n",
        "    return start, f(start)"
      ],
      "outputs": [],
      "execution_count": 16
    },
    {
      "cell_type": "code",
      "id": "6622a652",
      "metadata": {
        "id": "6622a652",
        "colab": {
          "base_uri": "https://localhost:8080/"
        },
        "outputId": "97c3e9b9-815d-4e72-88da-cb4060f98965"
      },
      "source": [
        "find_smallest_int(10, lambda x: x** 2, 400)"
      ],
      "outputs": [
        {
          "output_type": "execute_result",
          "data": {
            "text/plain": [
              "(20, 400)"
            ]
          },
          "metadata": {},
          "execution_count": 17
        }
      ],
      "execution_count": 17
    },
    {
      "cell_type": "code",
      "source": [
        "# my code\n",
        "def find_smallest_integer(start_value, f, c):\n",
        "  while f(start_value) >= c:\n",
        "    start_value >= 1\n",
        "\n",
        "  return start_value, f(start_value)"
      ],
      "metadata": {
        "id": "nsG4SVUDy3J5"
      },
      "id": "nsG4SVUDy3J5",
      "execution_count": 18,
      "outputs": []
    },
    {
      "cell_type": "code",
      "source": [
        "find_smallest_integer(2, lambda x: x** 5, 800)"
      ],
      "metadata": {
        "colab": {
          "base_uri": "https://localhost:8080/"
        },
        "id": "727POvUu0slM",
        "outputId": "4e51c7ab-c28d-4dc4-d74b-d6a07637d523"
      },
      "id": "727POvUu0slM",
      "execution_count": 19,
      "outputs": [
        {
          "output_type": "execute_result",
          "data": {
            "text/plain": [
              "(2, 32)"
            ]
          },
          "metadata": {},
          "execution_count": 19
        }
      ]
    },
    {
      "cell_type": "markdown",
      "id": "c95a31db",
      "metadata": {
        "id": "c95a31db"
      },
      "source": [
        "## Exercise 3e -- Plugging in Your Function\n",
        "Now, use `find_smallest_int` and `custom_factorial` to find the smallest $n$ such that $n! \\geq 12,345$. Use a starting value of 0. Check your answer as we did in the lecture.\n"
      ]
    },
    {
      "cell_type": "code",
      "id": "fbb8967e",
      "metadata": {
        "id": "fbb8967e",
        "colab": {
          "base_uri": "https://localhost:8080/"
        },
        "outputId": "55be22d0-dcbb-4c21-e2ca-453e85ff15c1"
      },
      "source": [
        "# Exercise 3e (my code)\n",
        "find_smallest_int(0, cust_fact, 12345)"
      ],
      "outputs": [
        {
          "output_type": "execute_result",
          "data": {
            "text/plain": [
              "(8, 40320)"
            ]
          },
          "metadata": {},
          "execution_count": 20
        }
      ],
      "execution_count": 20
    },
    {
      "cell_type": "markdown",
      "id": "c91fbc7a",
      "metadata": {
        "id": "c91fbc7a"
      },
      "source": [
        "## Exercise 3f -- Increasing n\n",
        "Now we wil time the speed and output of `find_smallest_int` with smaller and larger values of $c$ and two different functions: `custom_factorial` and and a lambda function that sqaures a single input.\n",
        "\n",
        "Answer the folowing questions in the Markdown cell below:\n",
        "1. Which function takes longer to run for a fixed value of $c$. Why do you think this is?\n",
        "2. What is the ratio between runtimes when fixing the function and varying $c$ from 1,000 to 10,000. How about 10,000 to 100,000? Compare this ratio to the ratio of smallest integers for those runs. Are they similar? Why or why not?  You will want to write some code to compare these values.\n"
      ]
    },
    {
      "cell_type": "code",
      "id": "a6081adb",
      "metadata": {
        "colab": {
          "base_uri": "https://localhost:8080/"
        },
        "id": "a6081adb",
        "outputId": "4bf9c3b3-e27b-47d3-ede6-dc23f42c09d2"
      },
      "source": [
        "# Exercise 1b -- don't edit this cell\n",
        "%timeit find_smallest_int(0, custom_factorial, 1_000)\n",
        "%timeit find_smallest_int(0, custom_factorial, 10_000)\n",
        "%timeit find_smallest_int(0, custom_factorial, 100_000)\n",
        "\n",
        "\n",
        "\n",
        "%timeit find_smallest_int(0, lambda x: x ** 2, 1_000)\n",
        "%timeit find_smallest_int(0, lambda x: x ** 2, 10_000)\n",
        "%timeit find_smallest_int(0, lambda x: x ** 2, 100_000)"
      ],
      "outputs": [
        {
          "output_type": "stream",
          "name": "stdout",
          "text": [
            "5.3 µs ± 1.52 µs per loop (mean ± std. dev. of 7 runs, 100000 loops each)\n",
            "4.99 µs ± 67 ns per loop (mean ± std. dev. of 7 runs, 100000 loops each)\n",
            "6.63 µs ± 1.67 µs per loop (mean ± std. dev. of 7 runs, 100000 loops each)\n",
            "18.5 µs ± 2.67 µs per loop (mean ± std. dev. of 7 runs, 10000 loops each)\n",
            "37.2 µs ± 674 ns per loop (mean ± std. dev. of 7 runs, 10000 loops each)\n",
            "133 µs ± 27.1 µs per loop (mean ± std. dev. of 7 runs, 10000 loops each)\n"
          ]
        }
      ],
      "execution_count": 21
    },
    {
      "cell_type": "code",
      "id": "5e96be8e",
      "metadata": {
        "scrolled": false,
        "id": "5e96be8e",
        "colab": {
          "base_uri": "https://localhost:8080/"
        },
        "outputId": "76d15eb2-2ec5-44d9-ec27-9b5ee3826d53"
      },
      "source": [
        "# Compare ratios here\n",
        "print(\"Custom Factorial\")\n",
        "print(\"Ratio 1000 to 10000\")\n",
        "print(4.99/5.3)\n",
        "print(\"Ratio 10000 to 100000\")\n",
        "print(6.63/4.99)\n",
        "print(\"__________\")\n",
        "print(\"Lambda\")\n",
        "print(\"Ratio 1000 to 10000\")\n",
        "print(37.2/18.5)\n",
        "print(\"Ration 10000 to 100000\")\n",
        "print(133/37.2)"
      ],
      "outputs": [
        {
          "output_type": "stream",
          "name": "stdout",
          "text": [
            "Custom Factorial\n",
            "Ratio 1000 to 10000\n",
            "0.9415094339622643\n",
            "Ratio 10000 to 100000\n",
            "1.3286573146292584\n",
            "__________\n",
            "Lambda\n",
            "Ratio 1000 to 10000\n",
            "2.010810810810811\n",
            "Ration 10000 to 100000\n",
            "3.575268817204301\n"
          ]
        }
      ],
      "execution_count": 27
    },
    {
      "cell_type": "markdown",
      "id": "0429212c",
      "metadata": {
        "id": "0429212c"
      },
      "source": [
        "### Response to Exercise 3f\n",
        "\n",
        "1. The lambda function takes the longest to finish. This may be because every new factorial sum is just one step more than the previous one. Whereas for the lambda function, which is squared 'x', the numbers will grow at a larger rate, which may lead to a longer computational time.\n",
        "\n",
        "2. The ratios for the factorial function are around the same. However the lamda functions are growing at a larger rate. This may be because squaring becomes more time-consuming in larger numbers."
      ]
    },
    {
      "cell_type": "code",
      "source": [],
      "metadata": {
        "id": "xNyqk-tO7wQo"
      },
      "id": "xNyqk-tO7wQo",
      "execution_count": null,
      "outputs": []
    },
    {
      "cell_type": "markdown",
      "id": "2987b626",
      "metadata": {
        "id": "2987b626"
      },
      "source": [
        "## Exercise 4 -- Fibonacci Sequence\n",
        "The Fibonacci Sequence is an infinite sequence of integers $X_0, X_1, X_2, X_3, ...$ defined as below\n",
        "\n",
        "$$\n",
        "X_0 = 0\n",
        "$$\n",
        "$$\n",
        "X_1 = 1\n",
        "$$\n",
        "$$\n",
        "\\hspace{3.66cm}X_t = X_{t-1} + X_{t-2} \\text{ for } t \\geq 2\n",
        "$$\n",
        "\n",
        "Below define a function called `fibo_seq` that takes $t$ as an input and returns $X_t$, the $t$-th element of the Fibonacci Sequence.\n"
      ]
    },
    {
      "cell_type": "code",
      "id": "af4f720b",
      "metadata": {
        "id": "af4f720b"
      },
      "source": [
        "## Exercise 4 Code\n",
        "def fibo_seq(t):\n",
        "    x = 0\n",
        "    if t == 0:\n",
        "        return 0\n",
        "    if t == 1:\n",
        "        return 1\n",
        "    xtm2 = 0\n",
        "    xtm1 = 1\n",
        "    for t in range(2, t+1):\n",
        "        x = xtm1 + xtm2\n",
        "        xtm2 = xtm1\n",
        "        xtm1 = x\n",
        "\n",
        "    return x\n",
        "\n"
      ],
      "outputs": [],
      "execution_count": 22
    },
    {
      "cell_type": "code",
      "id": "76c3597e",
      "metadata": {
        "id": "76c3597e",
        "colab": {
          "base_uri": "https://localhost:8080/"
        },
        "outputId": "4aa7af47-190b-4fbe-e84f-af314e68f78c"
      },
      "source": [
        "print(fibo_seq(8))"
      ],
      "outputs": [
        {
          "output_type": "stream",
          "name": "stdout",
          "text": [
            "21\n"
          ]
        }
      ],
      "execution_count": 23
    },
    {
      "cell_type": "code",
      "source": [
        "print(fibo_seq(50))"
      ],
      "metadata": {
        "colab": {
          "base_uri": "https://localhost:8080/"
        },
        "id": "iRWSwB7Y74eS",
        "outputId": "72528954-3420-45d2-a35b-f326aa641b29"
      },
      "id": "iRWSwB7Y74eS",
      "execution_count": 31,
      "outputs": [
        {
          "output_type": "stream",
          "name": "stdout",
          "text": [
            "12586269025\n"
          ]
        }
      ]
    },
    {
      "cell_type": "markdown",
      "id": "10cd6fbc",
      "metadata": {
        "id": "10cd6fbc"
      },
      "source": [
        "## Exercise 5 -- Palindrome Detector\n",
        "A palindrome is a word or phrase that is spelled the same backwards as it is forwards (ignoring spaces). Create a function called `is_palindrome` that takes a list of strings and returns a list of Boolean variables that indicate whether the respective string is a palindrome or not. **Ignore capitalization and spaces**.\n",
        "\n",
        "When you're ready, test your function out on the cell below where `palindromes` and `nonpalindromes` are defined. Your function should return `[True, True, True, True, True]` for the former and `[False, False, False]` for the latter.\n",
        "\n",
        "\n",
        "**Hints**\n",
        "- A method will help you get rid of the white space\n",
        "- Look up on Google how to reverse a string as the reverse method only exists for lists"
      ]
    },
    {
      "cell_type": "code",
      "source": [
        "def clean_string(s):\n",
        "    return s.replace(\" \", \"\").lower()"
      ],
      "metadata": {
        "id": "vwdvbsspAKtf"
      },
      "id": "vwdvbsspAKtf",
      "execution_count": 56,
      "outputs": []
    },
    {
      "cell_type": "code",
      "source": [
        "[clean_string(word) for word in palindromes]"
      ],
      "metadata": {
        "colab": {
          "base_uri": "https://localhost:8080/"
        },
        "id": "MIoKi7MCAhlj",
        "outputId": "89e68ddf-1f29-4468-98ca-5ca8143204cf"
      },
      "id": "MIoKi7MCAhlj",
      "execution_count": 59,
      "outputs": [
        {
          "output_type": "execute_result",
          "data": {
            "text/plain": [
              "['radar', 'tacocat', 'stresseddesserts', 'nolemonnomelon', '!??!!??!']"
            ]
          },
          "metadata": {},
          "execution_count": 59
        }
      ]
    },
    {
      "cell_type": "code",
      "id": "fa2d5b1a",
      "metadata": {
        "id": "fa2d5b1a"
      },
      "source": [
        "# Exercise 5 -- create is_palindrome function here\n",
        "def is_palindrome(lst):\n",
        "\n",
        "    clean_list = [clean_string(word) for word in lst]\n",
        "\n",
        "    out = []\n",
        "    for word in clean_list:\n",
        "      out.append(word == word[::-1])\n",
        "\n",
        "\n",
        "    return out\n",
        "\n"
      ],
      "outputs": [],
      "execution_count": 62
    },
    {
      "cell_type": "code",
      "id": "2334af93",
      "metadata": {
        "colab": {
          "base_uri": "https://localhost:8080/"
        },
        "id": "2334af93",
        "outputId": "b9f005b6-4cb1-47c1-bc79-2095cf777187"
      },
      "source": [
        "# Run this cell when you're ready -- do not edit it\n",
        "palindromes = [\"Radar\", \"Taco cat\", \"Stressed Desserts\", \"no Lemon no melon\", \"!??!!??!\"]\n",
        "nonpalindromes = [\"Hello World\", \"VSP\", \"Vancouver Canada\"]\n",
        "\n",
        "print(is_palindrome(palindromes))\n",
        "is_palindrome(nonpalindromes)\n"
      ],
      "outputs": [
        {
          "output_type": "stream",
          "name": "stdout",
          "text": [
            "[True, True, True, True, True]\n"
          ]
        },
        {
          "output_type": "execute_result",
          "data": {
            "text/plain": [
              "[False, False, False]"
            ]
          },
          "metadata": {},
          "execution_count": 63
        }
      ],
      "execution_count": 63
    },
    {
      "cell_type": "markdown",
      "id": "86aa87b3",
      "metadata": {
        "id": "86aa87b3"
      },
      "source": [
        "## Exercise 6 -- Comparison Operators & List Comprehensions\n",
        "Using `num_list` and list comprehensions, create three lists that correspond to the elements in num_list:\n",
        "1. `equal_list` whose elements should be true if the corresponding element in `num_list` is equal to 0 and false otherwise.\n",
        "2. `greater_list` whose elements should be true if the corresponding element in `num_list` is strictly greater than 0 and false otherwise.\n",
        "3. `lesser_list` whose elements should be true if the corresponding element in `num_list` is strictly less than 0 and false otherwise.\n",
        "4. Finally, using the three lists you generated, list comprehensions, and `zip()`, create `true_list` a list of length 7 where every element is true.\n",
        "\n",
        "**Hints for 4:**\n",
        "- `zip` can be used on more than two lists\n",
        "- use `or` within the list comprehension"
      ]
    },
    {
      "cell_type": "code",
      "id": "7a770f90",
      "metadata": {
        "id": "7a770f90",
        "colab": {
          "base_uri": "https://localhost:8080/"
        },
        "outputId": "fc554a01-1313-46d8-a191-cfb7ab534fe2"
      },
      "source": [
        "# Exercise 6 Code\n",
        "# Don't edit the line below\n",
        "num_list = [-5, -3, -1, 0, 1, 3, 5]\n",
        "\n",
        "# your code below here\n",
        "\n",
        "equal_list = [num_list[0] == 0, num_list[1] == 0, num_list[2] == 0, num_list[3] == 0, num_list[4] == 0, num_list[5] == 0, num_list[6] == 0]\n",
        "print(\"equal_list: \")\n",
        "print(equal_list)\n",
        "\n",
        "greater_list = [num_list[0] > 0, num_list[1] > 0, num_list[2] > 0, num_list[3] > 0, num_list[4] > 0, num_list[5] > 0, num_list[6] > 0]\n",
        "print(\"greater_list: \")\n",
        "print(greater_list)\n",
        "\n",
        "lesser_list = [num_list[0] < 0, num_list[1] < 0, num_list[2] < 0, num_list[3] < 0, num_list[4] < 0, num_list[5] < 0, num_list[6] < 0]\n",
        "print(\"lesser_list: \")\n",
        "print(lesser_list)\n",
        "\n"
      ],
      "outputs": [
        {
          "output_type": "stream",
          "name": "stdout",
          "text": [
            "equal_list: \n",
            "[False, False, False, True, False, False, False]\n",
            "greater_list: \n",
            "[False, False, False, False, True, True, True]\n",
            "lesser_list: \n",
            "[True, True, True, False, False, False, False]\n"
          ]
        }
      ],
      "execution_count": null
    },
    {
      "cell_type": "code",
      "source": [
        "true_list = []\n",
        "for num in zip(num_list or equal_list or greater_list or lesser_list) :\n",
        "  num == 0\n",
        "  true_list.append(True)"
      ],
      "metadata": {
        "id": "82OUDb688ut9"
      },
      "id": "82OUDb688ut9",
      "execution_count": null,
      "outputs": []
    },
    {
      "cell_type": "markdown",
      "id": "c8b7d7b3",
      "metadata": {
        "id": "c8b7d7b3"
      },
      "source": [
        "## Exercise 7 -- List Comprehensions and Very Basic Plotting\n",
        "Complete the following steps in the cells below:\n",
        "1. Import the `math` module and give it an alias of `mt`.\n",
        "2. Import the `matplotlib.pyplot` module and give it an alias of `plt`.\n",
        "3. Create a variable named `num_range` and set it equal to a range of numbers from 0 to 1000 (including 1000).\n",
        "4. Using `num_range` and a list comprehension, create a list called `sine_list` that is equal to `sin((pi/100) * x)` for every `x` in the range `num_range`. (**Hint:** sin and pi are objects from the math library.)\n",
        "5. Finally, using `plt`, `num_range`, and `sine_list`, generate a line plot."
      ]
    },
    {
      "cell_type": "code",
      "id": "0f6bfae5",
      "metadata": {
        "id": "0f6bfae5"
      },
      "source": [
        "# Exercise 7 Code\n",
        "\n",
        "import math as mt\n",
        "import matplotlib.pyplot as plt\n"
      ],
      "outputs": [],
      "execution_count": 66
    },
    {
      "cell_type": "code",
      "source": [
        "num_range = range(0,1001)\n",
        "sine_list = []\n",
        "\n",
        "for x in num_range:\n",
        "    sine = mt.sin((mt.pi / 100) * x)\n",
        "    sine_list.append(sine)\n"
      ],
      "metadata": {
        "id": "S0k5lGZpCBa5"
      },
      "id": "S0k5lGZpCBa5",
      "execution_count": 71,
      "outputs": []
    },
    {
      "cell_type": "code",
      "source": [
        "plt.title(\"Sine graph\")\n",
        "plt.plot(num_range, sine_list)"
      ],
      "metadata": {
        "colab": {
          "base_uri": "https://localhost:8080/",
          "height": 469
        },
        "id": "RJw8GUVrCCOy",
        "outputId": "cc610ec7-20c6-45e7-91eb-eaad74503ebb"
      },
      "id": "RJw8GUVrCCOy",
      "execution_count": 72,
      "outputs": [
        {
          "output_type": "execute_result",
          "data": {
            "text/plain": [
              "[<matplotlib.lines.Line2D at 0x7f1a692afa60>]"
            ]
          },
          "metadata": {},
          "execution_count": 72
        },
        {
          "output_type": "display_data",
          "data": {
            "text/plain": [
              "<Figure size 640x480 with 1 Axes>"
            ],
            "image/png": "[encoded data removed]"
          },
          "metadata": {}
        }
      ]
    }
  ],
  "metadata": {
    "kernelspec": {
      "display_name": "Python 3 (ipykernel)",
      "language": "python",
      "name": "python3"
    },
    "language_info": {
      "codemirror_mode": {
        "name": "ipython",
        "version": 3
      },
      "file_extension": ".py",
      "mimetype": "text/x-python",
      "name": "python",
      "nbconvert_exporter": "python",
      "pygments_lexer": "ipython3",
      "version": "3.9.15"
    },
    "colab": {
      "provenance": []
    }
  },
  "nbformat": 4,
  "nbformat_minor": 5
}