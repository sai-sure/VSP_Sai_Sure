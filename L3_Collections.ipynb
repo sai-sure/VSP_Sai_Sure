{
  "cells": [
    {
      "cell_type": "markdown",
      "id": "56f1fe43",
      "metadata": {
        "id": "56f1fe43"
      },
      "source": [
        "# Lecture 3 -- Collections\n",
        "This lecture discusses a subset of data structures known as collections. Collections are also called containers -- that is data types that contain multiple elements in a single object. In this lecture, students will learn about and use four main types of collections:\n",
        "- lists\n",
        "- ranges\n",
        "- tuples\n",
        "- dictionaries\n",
        "\n",
        "They will learn about their differences, their use cases, and various ways each collection can be manipulated, with a particular focus on lists.\n",
        "\n",
        "The structure of this lecture closely follows the QuantEcon lectures on [Python Fundamentals](https://datascience.quantecon.org/python_fundamentals/index.html) sans the economics content."
      ]
    },
    {
      "cell_type": "markdown",
      "id": "9061a1b7",
      "metadata": {
        "id": "9061a1b7"
      },
      "source": [
        "## Lists\n",
        "Lists are the most common type of collection in Python. Lists are **ordered** which means there is a first element and a last element. You can define a list using `[]`. In the cell below, we define a list of groceries and assign it the name `grocery_list`."
      ]
    },
    {
      "cell_type": "code",
      "id": "ff0bb6ff",
      "metadata": {
        "scrolled": true,
        "colab": {
          "base_uri": "https://localhost:8080/"
        },
        "id": "ff0bb6ff",
        "outputId": "7a411a01-36d9-4520-cc28-7287e9dfbdff"
      },
      "source": [
        "grocery_list = [\"bread\", \"milk\", \"cheese\", \"apples\"]\n",
        "print(grocery_list)\n",
        "print(type(grocery_list)) # Note the type is the `list`"
      ],
      "outputs": [
        {
          "output_type": "stream",
          "name": "stdout",
          "text": [
            "['bread', 'milk', 'cheese', 'apples']\n",
            "<class 'list'>\n"
          ]
        }
      ],
      "execution_count": 13
    },
    {
      "cell_type": "markdown",
      "id": "cd96722f",
      "metadata": {
        "id": "cd96722f"
      },
      "source": [
        "Lists can also contain any combination of types and even functions!"
      ]
    },
    {
      "cell_type": "code",
      "id": "d9b3c426",
      "metadata": {
        "scrolled": true,
        "colab": {
          "base_uri": "https://localhost:8080/"
        },
        "id": "d9b3c426",
        "outputId": "3d2b3f64-df35-4af1-fd82-4b80cd077c9e"
      },
      "source": [
        "list_of_many_types = [1, 1.5, \"orange\", print, [1,2,3]]\n",
        "print(list_of_many_types)"
      ],
      "outputs": [
        {
          "output_type": "stream",
          "name": "stdout",
          "text": [
            "[1, 1.5, 'orange', <built-in function print>, [1, 2, 3]]\n"
          ]
        }
      ],
      "execution_count": 2
    },
    {
      "cell_type": "markdown",
      "id": "a529268f",
      "metadata": {
        "id": "a529268f"
      },
      "source": [
        "## Properties of Lists\n",
        "Since lists are so commonly used, there are many basic properties of lists that are worth knowing well, especially when compared to the other collection types.\n",
        "### Accessing Elements of a List\n",
        "After being defined, you will want to access individual elements of a list. This can be done using bracket indexing notation. For instance, we can print the first item on `grocery_list`:"
      ]
    },
    {
      "cell_type": "code",
      "id": "6547365b",
      "metadata": {
        "colab": {
          "base_uri": "https://localhost:8080/"
        },
        "id": "6547365b",
        "outputId": "11c7df4b-88da-4def-b5e1-c419bc929458"
      },
      "source": [
        "print(grocery_list[0])\n",
        "print(grocery_list[-4])"
      ],
      "outputs": [
        {
          "output_type": "stream",
          "name": "stdout",
          "text": [
            "bread\n",
            "bread\n"
          ]
        }
      ],
      "execution_count": 3
    },
    {
      "cell_type": "code",
      "source": [
        "print(grocery_list)\n",
        "print(grocery_list[-1])\n",
        "print(grocery_list[-2])"
      ],
      "metadata": {
        "colab": {
          "base_uri": "https://localhost:8080/"
        },
        "id": "Kw987YpmnqnW",
        "outputId": "afee5ff4-7b8b-4049-d298-87808b53b439"
      },
      "id": "Kw987YpmnqnW",
      "execution_count": 4,
      "outputs": [
        {
          "output_type": "stream",
          "name": "stdout",
          "text": [
            "['bread', 'milk', 'cheese', 'apples']\n",
            "apples\n",
            "cheese\n"
          ]
        }
      ]
    },
    {
      "cell_type": "markdown",
      "id": "82d5ae5d",
      "metadata": {
        "id": "82d5ae5d"
      },
      "source": [
        "### 0-based indexing\n",
        "Many coding languages, including Python, use 0-based indexing. This means to access the first element of `grocery_list`, we used the 0 index. Using this convention,  the second element is accessed using index 1, the third by index 2, etc.\n",
        "\n",
        "### Negative Indexing\n",
        "While it is rarely useful to index using negative numbers, we can do so. An index of $-1$ refers to the last element of the list, $-2$ refers to the second to last, etc.\n",
        "\n",
        "### Out of Bounds Indices\n",
        "If a list has $n$ elements, then the only valid indices are:\n",
        "$$\n",
        "-n, -(n-1),..., 0, ..., n-1\n",
        "$$\n",
        "If your indices are not one of these you will receive an \"index out of range\" error. See below.\n",
        "\n",
        "### Type of Indices\n",
        "Indices must be have an integer type! See below."
      ]
    },
    {
      "cell_type": "code",
      "id": "748e374e",
      "metadata": {
        "scrolled": true,
        "colab": {
          "base_uri": "https://localhost:8080/",
          "height": 176
        },
        "id": "748e374e",
        "outputId": "30129a09-e5ef-4f3f-fa31-091717134368"
      },
      "source": [
        "# Uncomment these lines, run the code, and observe the errors\n",
        "grocery_list[5]\n",
        "grocery_list[3.0]"
      ],
      "outputs": [
        {
          "output_type": "error",
          "ename": "IndexError",
          "evalue": "list index out of range",
          "traceback": [
            "\u001b[0;31m---------------------------------------------------------------------------\u001b[0m",
            "\u001b[0;31mIndexError\u001b[0m                                Traceback (most recent call last)",
            "\u001b[0;32m<ipython-input-5-68045b93390e>\u001b[0m in \u001b[0;36m<cell line: 2>\u001b[0;34m()\u001b[0m\n\u001b[1;32m      1\u001b[0m \u001b[0;31m# Uncomment these lines, run the code, and observe the errors\u001b[0m\u001b[0;34m\u001b[0m\u001b[0;34m\u001b[0m\u001b[0m\n\u001b[0;32m----> 2\u001b[0;31m \u001b[0mgrocery_list\u001b[0m\u001b[0;34m[\u001b[0m\u001b[0;36m5\u001b[0m\u001b[0;34m]\u001b[0m\u001b[0;34m\u001b[0m\u001b[0;34m\u001b[0m\u001b[0m\n\u001b[0m\u001b[1;32m      3\u001b[0m \u001b[0mgrocery_list\u001b[0m\u001b[0;34m[\u001b[0m\u001b[0;36m3.0\u001b[0m\u001b[0;34m]\u001b[0m\u001b[0;34m\u001b[0m\u001b[0;34m\u001b[0m\u001b[0m\n",
            "\u001b[0;31mIndexError\u001b[0m: list index out of range"
          ]
        }
      ],
      "execution_count": 5
    },
    {
      "cell_type": "markdown",
      "id": "8df0fa64",
      "metadata": {
        "id": "8df0fa64"
      },
      "source": [
        "### Multiple Indexing\n",
        "We can access multiple elements of a list at once by using **slices**. Slices, like our single index examples, can be found within brackets and take the form `start_index:stop_index+1`."
      ]
    },
    {
      "cell_type": "code",
      "id": "d7bba30f",
      "metadata": {
        "colab": {
          "base_uri": "https://localhost:8080/"
        },
        "id": "d7bba30f",
        "outputId": "8b09cb4a-4864-4688-974a-80128000e0b0"
      },
      "source": [
        "dairy_list = grocery_list[1:3]\n",
        "print(grocery_list)\n",
        "print(dairy_list)\n",
        "print(grocery_list[1:4])\n",
        "#the last value is not included because it is a closed interval in the end (the first value is included)"
      ],
      "outputs": [
        {
          "output_type": "stream",
          "name": "stdout",
          "text": [
            "['bread', 'milk', 'cheese', 'apples']\n",
            "['milk', 'cheese']\n",
            "['milk', 'cheese', 'apples']\n"
          ]
        }
      ],
      "execution_count": 15
    },
    {
      "cell_type": "code",
      "source": [
        "print(grocery_list[1:])"
      ],
      "metadata": {
        "colab": {
          "base_uri": "https://localhost:8080/"
        },
        "id": "2BVJ6bwCpjrX",
        "outputId": "b9df5b5e-146f-45f8-82e6-7f4b6d1ee604"
      },
      "id": "2BVJ6bwCpjrX",
      "execution_count": 16,
      "outputs": [
        {
          "output_type": "stream",
          "name": "stdout",
          "text": [
            "['milk', 'cheese', 'apples']\n"
          ]
        }
      ]
    },
    {
      "cell_type": "markdown",
      "id": "062a60e4",
      "metadata": {
        "id": "062a60e4"
      },
      "source": [
        "It is unintuitive that this would not also return the 4th element (indexed by 3), but that this convention is useful because of 0 based indexing. Since the last element of a list is indexed by its length minus 1, the list length can be used as  the end point of the slice when we want to include the last element of the list."
      ]
    },
    {
      "cell_type": "code",
      "id": "b4539964",
      "metadata": {
        "colab": {
          "base_uri": "https://localhost:8080/"
        },
        "id": "b4539964",
        "outputId": "6acd1abd-d582-440a-8944-73c81ca5996e"
      },
      "source": [
        "list_length = len(grocery_list)\n",
        "print(list_length)\n",
        "print(grocery_list[2:list_length])"
      ],
      "outputs": [
        {
          "output_type": "stream",
          "name": "stdout",
          "text": [
            "4\n",
            "['cheese', 'apples']\n"
          ]
        }
      ],
      "execution_count": 19
    },
    {
      "cell_type": "code",
      "source": [
        "list_length = len(grocery_list)\n",
        "print(list_length)\n",
        "#this can be used to determine the length of the list if you do not know it"
      ],
      "metadata": {
        "colab": {
          "base_uri": "https://localhost:8080/"
        },
        "id": "5-pLkg5EqVC8",
        "outputId": "0e611d54-5aed-4419-e9b2-108dc2beb347"
      },
      "id": "5-pLkg5EqVC8",
      "execution_count": 18,
      "outputs": [
        {
          "output_type": "stream",
          "name": "stdout",
          "text": [
            "4\n"
          ]
        }
      ]
    },
    {
      "cell_type": "markdown",
      "id": "56af7054",
      "metadata": {
        "id": "56af7054"
      },
      "source": [
        "### Changing the Value of an Element\n",
        "You can use this indexing to change individual elements of a list. When you can change elements of a data structure, it is called **mutable**. Below, we change the third item of `grocery_list` (\"cheese\") to \"cheddar cheese\""
      ]
    },
    {
      "cell_type": "code",
      "id": "6c1659f2",
      "metadata": {
        "colab": {
          "base_uri": "https://localhost:8080/"
        },
        "id": "6c1659f2",
        "outputId": "22ed1bcf-ad0c-4bcb-883a-9b15316acc6b"
      },
      "source": [
        "grocery_list[2] = \"cheddar cheese\"\n",
        "print(grocery_list)\n",
        "#replacing values"
      ],
      "outputs": [
        {
          "output_type": "stream",
          "name": "stdout",
          "text": [
            "['bread', 'milk', 'cheddar cheese', 'apples']\n"
          ]
        }
      ],
      "execution_count": 20
    },
    {
      "cell_type": "markdown",
      "id": "71e1f3c9",
      "metadata": {
        "id": "71e1f3c9"
      },
      "source": [
        "### Length\n",
        "\n",
        "As we discussed in Lecture 2, lists have a length  that is defined by the number of elements in the list. This can be obtained by using `len()`:"
      ]
    },
    {
      "cell_type": "code",
      "id": "97b29997",
      "metadata": {
        "scrolled": false,
        "colab": {
          "base_uri": "https://localhost:8080/"
        },
        "id": "97b29997",
        "outputId": "90846b90-8db2-476b-fb36-f7e75b64a374"
      },
      "source": [
        "print(len(grocery_list))\n",
        "print(len(list_of_many_types))"
      ],
      "outputs": [
        {
          "output_type": "stream",
          "name": "stdout",
          "text": [
            "4\n",
            "5\n"
          ]
        }
      ],
      "execution_count": 21
    },
    {
      "cell_type": "markdown",
      "id": "00f02b6c",
      "metadata": {
        "id": "00f02b6c"
      },
      "source": [
        "### Element Membership\n",
        "We can check if a given object is an element in a given list using the `in` keyword. If the expression returns true, the element is in the list. Otherwise, it is not."
      ]
    },
    {
      "metadata": {
        "colab": {
          "base_uri": "https://localhost:8080/"
        },
        "id": "b8b8b1dd6b43a996",
        "outputId": "ad085a84-4f75-47d9-a531-1e7d711374eb"
      },
      "cell_type": "code",
      "source": [
        "print(\"bread\" in grocery_list)  # \"bread\" is in grocery_list\n",
        "print(\"squash\" in grocery_list) # \"squash\" is not"
      ],
      "id": "b8b8b1dd6b43a996",
      "outputs": [
        {
          "output_type": "stream",
          "name": "stdout",
          "text": [
            "True\n",
            "False\n"
          ]
        }
      ],
      "execution_count": 22
    },
    {
      "cell_type": "code",
      "source": [
        "print(\"Milk\" in grocery_list)\n",
        "#capital letter makes it a different string"
      ],
      "metadata": {
        "colab": {
          "base_uri": "https://localhost:8080/"
        },
        "id": "pbXrP0YCrCAJ",
        "outputId": "dc765f87-ea68-4d7a-8588-18746010bbbc"
      },
      "id": "pbXrP0YCrCAJ",
      "execution_count": 23,
      "outputs": [
        {
          "output_type": "stream",
          "name": "stdout",
          "text": [
            "False\n"
          ]
        }
      ]
    },
    {
      "cell_type": "code",
      "source": [
        "\"milk\" == \"Milk\""
      ],
      "metadata": {
        "colab": {
          "base_uri": "https://localhost:8080/"
        },
        "id": "6i-hd6kPrK3t",
        "outputId": "1af77ef9-4dc6-4955-9e2d-616b4399fb1c"
      },
      "id": "6i-hd6kPrK3t",
      "execution_count": 24,
      "outputs": [
        {
          "output_type": "execute_result",
          "data": {
            "text/plain": [
              "False"
            ]
          },
          "metadata": {},
          "execution_count": 24
        }
      ]
    },
    {
      "metadata": {
        "id": "b3f8142edd1b220a"
      },
      "cell_type": "markdown",
      "source": [
        "Note that the third element of `list_of_many_types` is a function `print()`. We can call it directly using the following:"
      ],
      "id": "b3f8142edd1b220a"
    },
    {
      "cell_type": "code",
      "source": [
        "print(list_of_many_types)"
      ],
      "metadata": {
        "colab": {
          "base_uri": "https://localhost:8080/"
        },
        "id": "nIkk5O-Trl3z",
        "outputId": "df4d7ceb-9fc4-4968-e029-b842705b29c9"
      },
      "id": "nIkk5O-Trl3z",
      "execution_count": 28,
      "outputs": [
        {
          "output_type": "stream",
          "name": "stdout",
          "text": [
            "[1, 1.5, 'orange', <built-in function print>, [1, 2, 3]]\n"
          ]
        }
      ]
    },
    {
      "metadata": {
        "colab": {
          "base_uri": "https://localhost:8080/"
        },
        "id": "f4925c9e8033cc8d",
        "outputId": "482aee97-e524-46e3-e167-311949b80eee"
      },
      "cell_type": "code",
      "source": [
        "list_of_many_types[3] == print"
      ],
      "id": "f4925c9e8033cc8d",
      "outputs": [
        {
          "output_type": "execute_result",
          "data": {
            "text/plain": [
              "True"
            ]
          },
          "metadata": {},
          "execution_count": 25
        }
      ],
      "execution_count": 25
    },
    {
      "cell_type": "code",
      "source": [
        "list_of_many_types[3](\"Hello\")"
      ],
      "metadata": {
        "colab": {
          "base_uri": "https://localhost:8080/"
        },
        "id": "pChiQdxerdUH",
        "outputId": "b9afae75-8727-4555-fe3a-ffc3c313a11b"
      },
      "id": "pChiQdxerdUH",
      "execution_count": 26,
      "outputs": [
        {
          "output_type": "stream",
          "name": "stdout",
          "text": [
            "Hello\n"
          ]
        }
      ]
    },
    {
      "cell_type": "code",
      "source": [
        "print(\"Hello\")"
      ],
      "metadata": {
        "colab": {
          "base_uri": "https://localhost:8080/"
        },
        "id": "GukewkFgrj0W",
        "outputId": "8532fd71-c840-4865-da4f-a376dae5fa7b"
      },
      "id": "GukewkFgrj0W",
      "execution_count": 27,
      "outputs": [
        {
          "output_type": "stream",
          "name": "stdout",
          "text": [
            "Hello\n"
          ]
        }
      ]
    },
    {
      "cell_type": "code",
      "id": "00983fa0",
      "metadata": {
        "colab": {
          "base_uri": "https://localhost:8080/"
        },
        "id": "00983fa0",
        "outputId": "13981c1b-6ab4-4b35-a74b-7a3aeba87709"
      },
      "source": [
        "list_of_many_types[3]((print in list_of_many_types)) # This is the same as print(print in list_of_many_types) (function print not word print)"
      ],
      "outputs": [
        {
          "output_type": "stream",
          "name": "stdout",
          "text": [
            "True\n"
          ]
        }
      ],
      "execution_count": 29
    },
    {
      "cell_type": "markdown",
      "id": "7c1b8bb0",
      "metadata": {
        "id": "7c1b8bb0"
      },
      "source": [
        "**Quick Discussion**: What's happening on the first line in the cell above?"
      ]
    },
    {
      "cell_type": "markdown",
      "id": "694a6cc6",
      "metadata": {
        "id": "694a6cc6"
      },
      "source": [
        "### Appending, Inserting, & Extending\n",
        "`.append()` is among the most useful methods for lists and we have already seen it in Lecture 2. This method allows us to add a new element to an already existing list without using an `=` sign.\n",
        "\n",
        "`.insert()` is similar to append but it allows you to choose where in the list the element will be placed.\n",
        "\n",
        "`.extend()` is also similar to `.append`, but it adds a list of many new elements onto an already existing list."
      ]
    },
    {
      "cell_type": "code",
      "id": "024e9d25",
      "metadata": {
        "colab": {
          "base_uri": "https://localhost:8080/"
        },
        "id": "024e9d25",
        "outputId": "29be708d-718f-4242-a73e-0443299f3c28"
      },
      "source": [
        "# Appending\n",
        "grocery_list.append(\"squash\")\n",
        "list_of_many_types.append(True)\n",
        "\n",
        "print(grocery_list)\n",
        "print(list_of_many_types)"
      ],
      "outputs": [
        {
          "output_type": "stream",
          "name": "stdout",
          "text": [
            "['bread', 'milk', 'cheddar cheese', 'apples', 'squash']\n",
            "[1, 1.5, 'orange', <built-in function print>, [1, 2, 3], True]\n"
          ]
        }
      ],
      "execution_count": 30
    },
    {
      "metadata": {
        "colab": {
          "base_uri": "https://localhost:8080/"
        },
        "id": "e592d6adf40094e6",
        "outputId": "07f52cd8-e9d7-4edd-a7d5-2059fc71a5f7"
      },
      "cell_type": "code",
      "source": [
        "# Inserting\n",
        "grocery_list.insert(2, \"garlic\")\n",
        "list_of_many_types.insert(2, len)\n",
        "\n",
        "print(grocery_list)\n",
        "print(list_of_many_types)"
      ],
      "id": "e592d6adf40094e6",
      "outputs": [
        {
          "output_type": "stream",
          "name": "stdout",
          "text": [
            "['bread', 'milk', 'garlic', 'cheddar cheese', 'apples', 'squash']\n",
            "[1, 1.5, <built-in function len>, 'orange', <built-in function print>, [1, 2, 3], True]\n"
          ]
        }
      ],
      "execution_count": 31
    },
    {
      "metadata": {
        "colab": {
          "base_uri": "https://localhost:8080/"
        },
        "id": "62312a60ba06fffe",
        "outputId": "95200178-08d5-4106-b1ca-f0bd73341f7f"
      },
      "cell_type": "code",
      "source": [
        "# Extending\n",
        "grocery_list.extend([\"noodles\", \"turkey\"]) # both \"noodles\" and \"turkey\" are added to grocery_list\n",
        "list_of_many_types.extend([8/5, str])\n",
        "\n",
        "print(grocery_list)\n",
        "print(list_of_many_types)"
      ],
      "id": "62312a60ba06fffe",
      "outputs": [
        {
          "output_type": "stream",
          "name": "stdout",
          "text": [
            "['bread', 'milk', 'garlic', 'cheddar cheese', 'apples', 'squash', 'noodles', 'turkey']\n",
            "[1, 1.5, <built-in function len>, 'orange', <built-in function print>, [1, 2, 3], True, 1.6, <class 'str'>]\n"
          ]
        }
      ],
      "execution_count": 32
    },
    {
      "cell_type": "code",
      "source": [
        "grocery_list.append([\"e11\", \"e12\"])"
      ],
      "metadata": {
        "id": "zDB2jb-6sk11"
      },
      "id": "zDB2jb-6sk11",
      "execution_count": 33,
      "outputs": []
    },
    {
      "cell_type": "code",
      "source": [
        "print(grocery_list)"
      ],
      "metadata": {
        "colab": {
          "base_uri": "https://localhost:8080/"
        },
        "id": "xuP-QAINsrP8",
        "outputId": "cb9a4aad-2ce8-4dc1-e1d8-3d6e34396e89"
      },
      "id": "xuP-QAINsrP8",
      "execution_count": 34,
      "outputs": [
        {
          "output_type": "stream",
          "name": "stdout",
          "text": [
            "['bread', 'milk', 'garlic', 'cheddar cheese', 'apples', 'squash', 'noodles', 'turkey', ['e11', 'e12']]\n"
          ]
        }
      ]
    },
    {
      "cell_type": "code",
      "source": [
        "grocery_list.append(\"e13\", \"e14\")\n",
        "print(grocery_list)"
      ],
      "metadata": {
        "colab": {
          "base_uri": "https://localhost:8080/",
          "height": 158
        },
        "id": "q99q4DMZswT5",
        "outputId": "fbbf82cc-a7a6-44bf-cdb2-8e7556ad5085"
      },
      "id": "q99q4DMZswT5",
      "execution_count": 35,
      "outputs": [
        {
          "output_type": "error",
          "ename": "TypeError",
          "evalue": "list.append() takes exactly one argument (2 given)",
          "traceback": [
            "\u001b[0;31m---------------------------------------------------------------------------\u001b[0m",
            "\u001b[0;31mTypeError\u001b[0m                                 Traceback (most recent call last)",
            "\u001b[0;32m<ipython-input-35-2839fda9b33d>\u001b[0m in \u001b[0;36m<cell line: 1>\u001b[0;34m()\u001b[0m\n\u001b[0;32m----> 1\u001b[0;31m \u001b[0mgrocery_list\u001b[0m\u001b[0;34m.\u001b[0m\u001b[0mappend\u001b[0m\u001b[0;34m(\u001b[0m\u001b[0;34m\"e13\"\u001b[0m\u001b[0;34m,\u001b[0m \u001b[0;34m\"e14\"\u001b[0m\u001b[0;34m)\u001b[0m\u001b[0;34m\u001b[0m\u001b[0;34m\u001b[0m\u001b[0m\n\u001b[0m\u001b[1;32m      2\u001b[0m \u001b[0mprint\u001b[0m\u001b[0;34m(\u001b[0m\u001b[0mgrocery_list\u001b[0m\u001b[0;34m)\u001b[0m\u001b[0;34m\u001b[0m\u001b[0;34m\u001b[0m\u001b[0m\n",
            "\u001b[0;31mTypeError\u001b[0m: list.append() takes exactly one argument (2 given)"
          ]
        }
      ]
    },
    {
      "cell_type": "markdown",
      "id": "abf73e83",
      "metadata": {
        "id": "abf73e83"
      },
      "source": [
        "### Sorting\n",
        "`.sort()` allows use to sort both numerical and string lists in the expected way."
      ]
    },
    {
      "cell_type": "code",
      "source": [
        "grocery_list = ['bread', 'milk', 'garlic', 'cheddar cheese', 'apples', 'squash', 'noodles', 'turkey']"
      ],
      "metadata": {
        "id": "U19EeLaGtNWl"
      },
      "id": "U19EeLaGtNWl",
      "execution_count": 36,
      "outputs": []
    },
    {
      "cell_type": "code",
      "id": "070491f6",
      "metadata": {
        "colab": {
          "base_uri": "https://localhost:8080/"
        },
        "id": "070491f6",
        "outputId": "991b03e6-b606-4e14-dbbf-feda2cea84d2"
      },
      "source": [
        "grocery_list.sort()\n",
        "print(grocery_list)\n",
        "#sort function only works with lists of the same type.\n"
      ],
      "outputs": [
        {
          "output_type": "stream",
          "name": "stdout",
          "text": [
            "['apples', 'bread', 'cheddar cheese', 'garlic', 'milk', 'noodles', 'squash', 'turkey']\n"
          ]
        }
      ],
      "execution_count": 37
    },
    {
      "metadata": {
        "id": "e5e1c52c650baeda"
      },
      "cell_type": "code",
      "source": [
        "num_list = [4, 2, 3, 1, 6, 5]\n",
        "num_list.sort(reverse = True)\n",
        "\n",
        "print(num_list)"
      ],
      "id": "e5e1c52c650baeda",
      "outputs": [],
      "execution_count": null
    },
    {
      "cell_type": "markdown",
      "id": "7a83d2cc",
      "metadata": {
        "id": "7a83d2cc"
      },
      "source": [
        "Sorting arrays with many types will generally not work though! Why not? Uncomment the code below, run the cell, and look at the resulting error"
      ]
    },
    {
      "cell_type": "code",
      "id": "209a2a68",
      "metadata": {
        "scrolled": false,
        "id": "209a2a68"
      },
      "source": [
        "# list_of_many_types.sort()"
      ],
      "outputs": [],
      "execution_count": null
    },
    {
      "cell_type": "markdown",
      "id": "95201556",
      "metadata": {
        "id": "95201556"
      },
      "source": [
        "If you want to see the rest of the methods for lists, you can generate one and use tab completion to see the options."
      ]
    },
    {
      "cell_type": "markdown",
      "id": "e290ad50",
      "metadata": {
        "id": "e290ad50"
      },
      "source": [
        "## Ranges\n",
        "Ranges are a series of evenly spaced numbers, but they are distinct from lists in that these numbers are not stored into the memory of your computer. Instead, these numbers are generated as you iterate through the range or access an index for that range."
      ]
    },
    {
      "cell_type": "code",
      "source": [
        "list(range(5))"
      ],
      "metadata": {
        "colab": {
          "base_uri": "https://localhost:8080/"
        },
        "id": "SrPKdx3Nt9iR",
        "outputId": "55d3ea95-33e4-4d65-dc40-21a7bfdd5139"
      },
      "id": "SrPKdx3Nt9iR",
      "execution_count": 38,
      "outputs": [
        {
          "output_type": "execute_result",
          "data": {
            "text/plain": [
              "[0, 1, 2, 3, 4]"
            ]
          },
          "metadata": {},
          "execution_count": 38
        }
      ]
    },
    {
      "cell_type": "code",
      "id": "759da009",
      "metadata": {
        "colab": {
          "base_uri": "https://localhost:8080/"
        },
        "id": "759da009",
        "outputId": "22442623-ed37-42b8-94f9-a6dd3ff47dfa"
      },
      "source": [
        "n = 5\n",
        "r1 = range(n) # range of numbers from 0 to n\n",
        "r2 = range(2, n) # range of numbers from 2 to n\n",
        "r3 = range(-5, n, 2) # range of numbers from -5 to n in increments of 2\n",
        "print(r1)\n",
        "print(r2)\n",
        "print(r3)\n",
        "print(r1[2]) # prints third element of r1\n",
        "print(r2[2]) # prints third element of r2\n",
        "print(r3[2]) # prints third element of r3\n",
        "\n",
        "print(list(r1)) # convert range r1 to list and print\n",
        "print(list(r2))\n",
        "print(list(r3))"
      ],
      "outputs": [
        {
          "output_type": "stream",
          "name": "stdout",
          "text": [
            "range(0, 5)\n",
            "range(2, 5)\n",
            "range(-5, 5, 2)\n",
            "2\n",
            "4\n",
            "-1\n",
            "[0, 1, 2, 3, 4]\n",
            "[2, 3, 4]\n",
            "[-5, -3, -1, 1, 3]\n"
          ]
        }
      ],
      "execution_count": 40
    },
    {
      "cell_type": "code",
      "source": [
        "list(range(5))"
      ],
      "metadata": {
        "colab": {
          "base_uri": "https://localhost:8080/"
        },
        "id": "2-bxOE0fuqPf",
        "outputId": "3b79041f-3314-4185-8eaa-f4ebf25f6420"
      },
      "id": "2-bxOE0fuqPf",
      "execution_count": 41,
      "outputs": [
        {
          "output_type": "execute_result",
          "data": {
            "text/plain": [
              "[0, 1, 2, 3, 4]"
            ]
          },
          "metadata": {},
          "execution_count": 41
        }
      ]
    },
    {
      "cell_type": "code",
      "source": [
        "list(range(2,5+1))"
      ],
      "metadata": {
        "colab": {
          "base_uri": "https://localhost:8080/"
        },
        "id": "HatpNy9TuuCl",
        "outputId": "45e84218-e175-4ff4-97f5-25b1f52ebadd"
      },
      "id": "HatpNy9TuuCl",
      "execution_count": 42,
      "outputs": [
        {
          "output_type": "execute_result",
          "data": {
            "text/plain": [
              "[2, 3, 4, 5]"
            ]
          },
          "metadata": {},
          "execution_count": 42
        }
      ]
    },
    {
      "cell_type": "markdown",
      "id": "4774edf1",
      "metadata": {
        "id": "4774edf1"
      },
      "source": [
        "In the last line, we convert a range into a list. Viewing the elements of a range as a list makes it clear that the range excludes the last number (in this case, n=5)."
      ]
    },
    {
      "cell_type": "markdown",
      "id": "d10960d3",
      "metadata": {
        "id": "d10960d3"
      },
      "source": [
        "## Tuples\n",
        "Tuples are basically **immutable** lists. That means once the tuple has been defined, elements cannot be changed, reordered, removed, or added. Tuples are defined with parentheses `()` instead of brackets.\n",
        "\n",
        "In most use cases, lists are a better choice, but tuples can be useful if you want to ensure the data does not change. Ultimately, it is easy to convert from one to the other as needed with `list()` and `tuple()`."
      ]
    },
    {
      "cell_type": "code",
      "id": "edb2179c",
      "metadata": {
        "scrolled": true,
        "colab": {
          "base_uri": "https://localhost:8080/"
        },
        "id": "edb2179c",
        "outputId": "c421d50e-2dad-43c4-d15c-37a2e55a404a"
      },
      "source": [
        "simple_grocery_tuple = (\"bread\", \"milk\", \"eggs\") # manually define tuple\n",
        "print(simple_grocery_tuple[1:3]) # access elements just like arrays\n",
        "grocery_tuple  = tuple(grocery_list) # convert grocery_list into a tuple\n",
        "print(grocery_tuple)\n",
        "print(list(grocery_tuple)) # convert the tuple back into a list again\n",
        "#using normal brackets makes a list a tuple - normal lists will use square brackets"
      ],
      "outputs": [
        {
          "output_type": "stream",
          "name": "stdout",
          "text": [
            "('milk', 'eggs')\n",
            "('apples', 'bread', 'cheddar cheese', 'garlic', 'milk', 'noodles', 'squash', 'turkey')\n",
            "['apples', 'bread', 'cheddar cheese', 'garlic', 'milk', 'noodles', 'squash', 'turkey']\n"
          ]
        }
      ],
      "execution_count": 43
    },
    {
      "cell_type": "markdown",
      "id": "64eb6c71",
      "metadata": {
        "id": "64eb6c71"
      },
      "source": [
        "## Dictionaries\n",
        "Dictionaries are mutable associative collections. Each item or value in the collection is associated with a **key** instead of an integer index. Dictionaries are intialized using curly braces `{}` or by providing a list of keys and a list of values wrapped in the `zip()` function. We will learn more about zip when we cover control flow."
      ]
    },
    {
      "cell_type": "code",
      "id": "ef7edf06",
      "metadata": {
        "scrolled": true,
        "id": "ef7edf06"
      },
      "source": [
        "# Manually create a dictionary  where the keys are the good\n",
        "# and the values are the price of that good.\n",
        "simple_price_dictionary = {\n",
        "    \"bread\": 3.50,\n",
        "    \"milk\": 5.25,\n",
        "    \"eggs\": 6.00\n",
        "}\n",
        "#you can put anything as the 'definition'\n"
      ],
      "outputs": [],
      "execution_count": 45
    },
    {
      "cell_type": "code",
      "source": [
        "print(simple_price_dictionary)"
      ],
      "metadata": {
        "colab": {
          "base_uri": "https://localhost:8080/"
        },
        "id": "Hjn9DqnIxglU",
        "outputId": "59bda69f-9519-4c6c-bbda-8452e222b711"
      },
      "id": "Hjn9DqnIxglU",
      "execution_count": 46,
      "outputs": [
        {
          "output_type": "stream",
          "name": "stdout",
          "text": [
            "{'bread': 3.5, 'milk': 5.25, 'eggs': 6.0}\n"
          ]
        }
      ]
    },
    {
      "cell_type": "code",
      "source": [
        "# create long price_list\n",
        "price_list = [2.00, 3.50, 4.99, .88, 4.85,  2.50, 1.88, 13]"
      ],
      "metadata": {
        "id": "lgfEoqwxx35o"
      },
      "id": "lgfEoqwxx35o",
      "execution_count": 47,
      "outputs": []
    },
    {
      "cell_type": "code",
      "source": [
        "print(price_list)\n",
        "print(grocery_list)"
      ],
      "metadata": {
        "colab": {
          "base_uri": "https://localhost:8080/"
        },
        "id": "HN8MB5wzx5sq",
        "outputId": "36496442-a4a7-4a8b-b5cb-b20addd9cff0"
      },
      "id": "HN8MB5wzx5sq",
      "execution_count": 48,
      "outputs": [
        {
          "output_type": "stream",
          "name": "stdout",
          "text": [
            "[2.0, 3.5, 4.99, 0.88, 4.85, 2.5, 1.88, 13]\n",
            "['apples', 'bread', 'cheddar cheese', 'garlic', 'milk', 'noodles', 'squash', 'turkey']\n"
          ]
        }
      ]
    },
    {
      "cell_type": "code",
      "source": [
        "# use two lists and zip() to construct a dictionary - zip basically matches the two lists together\n",
        "\n",
        "full_price_dict = dict(zip(grocery_tuple, price_list))"
      ],
      "metadata": {
        "id": "ge_UNiOlyBT8"
      },
      "id": "ge_UNiOlyBT8",
      "execution_count": 49,
      "outputs": []
    },
    {
      "cell_type": "code",
      "source": [
        "full_price_dict"
      ],
      "metadata": {
        "colab": {
          "base_uri": "https://localhost:8080/"
        },
        "id": "tVh9NhGQyKrL",
        "outputId": "f4b674d5-d8ac-49c5-8569-753fbf6105ef"
      },
      "id": "tVh9NhGQyKrL",
      "execution_count": 50,
      "outputs": [
        {
          "output_type": "execute_result",
          "data": {
            "text/plain": [
              "{'apples': 2.0,\n",
              " 'bread': 3.5,\n",
              " 'cheddar cheese': 4.99,\n",
              " 'garlic': 0.88,\n",
              " 'milk': 4.85,\n",
              " 'noodles': 2.5,\n",
              " 'squash': 1.88,\n",
              " 'turkey': 13}"
            ]
          },
          "metadata": {},
          "execution_count": 50
        }
      ]
    },
    {
      "cell_type": "code",
      "source": [
        "# add new grocery-price pair\n",
        "full_price_dict[\"soy sauce\"] = 2.75\n",
        "\n",
        "# update the price of bread -- this is similar to how we do this for arrays but we use a key instead of an integer index\n",
        "full_price_dict[\"bread\"] = 3.75\n",
        "full_price_dict"
      ],
      "metadata": {
        "colab": {
          "base_uri": "https://localhost:8080/"
        },
        "id": "h6a-n5wTxeBP",
        "outputId": "7facaf25-2dd1-4f1f-8b59-54ab380e42f1"
      },
      "id": "h6a-n5wTxeBP",
      "execution_count": 52,
      "outputs": [
        {
          "output_type": "execute_result",
          "data": {
            "text/plain": [
              "{'apples': 2.0,\n",
              " 'bread': 3.75,\n",
              " 'cheddar cheese': 4.99,\n",
              " 'garlic': 0.88,\n",
              " 'milk': 4.85,\n",
              " 'noodles': 2.5,\n",
              " 'squash': 1.88,\n",
              " 'turkey': 13,\n",
              " 'soy sauce': 2.75}"
            ]
          },
          "metadata": {},
          "execution_count": 52
        }
      ]
    },
    {
      "cell_type": "markdown",
      "id": "b8cf1b07",
      "metadata": {
        "id": "b8cf1b07"
      },
      "source": [
        "The `.keys()` method allows us to get a list of all keys in our dictionary."
      ]
    },
    {
      "cell_type": "code",
      "id": "8239eba5",
      "metadata": {
        "id": "8239eba5"
      },
      "source": [
        "print(full_price_dict.keys())"
      ],
      "outputs": [],
      "execution_count": null
    },
    {
      "cell_type": "markdown",
      "id": "b02f93f8",
      "metadata": {
        "id": "b02f93f8"
      },
      "source": [
        "## Sets\n",
        "Sets mimic \"mathematical sets\" and as a result are unordered collections of unique elements. We can define a set using `{}`"
      ]
    },
    {
      "metadata": {
        "id": "2268309bba2ada99"
      },
      "cell_type": "code",
      "source": [
        "seta = {'a', 'b', 'c'}"
      ],
      "id": "2268309bba2ada99",
      "outputs": [],
      "execution_count": null
    },
    {
      "metadata": {
        "id": "dd0bfaf556c538d1"
      },
      "cell_type": "code",
      "source": [
        "# They cannot contain duplicate values\n",
        "print({'a', 'a', 'b', 'c'})"
      ],
      "id": "dd0bfaf556c538d1",
      "outputs": [],
      "execution_count": null
    },
    {
      "metadata": {
        "id": "cde5904b49274030"
      },
      "cell_type": "code",
      "source": [
        "# Since they are unordered, you can not index them\n",
        "seta[0]"
      ],
      "id": "cde5904b49274030",
      "outputs": [],
      "execution_count": null
    },
    {
      "metadata": {
        "id": "8bdcc3eac14c92cc"
      },
      "cell_type": "markdown",
      "source": [
        "You can use common set operations: i.e. union, intersection, difference"
      ],
      "id": "8bdcc3eac14c92cc"
    },
    {
      "metadata": {
        "id": "50ceadf8a6baf587"
      },
      "cell_type": "code",
      "source": [
        "A = {'a', 'b', 'c'}\n",
        "B = {'c', 'd', 'e'}\n",
        "\n",
        "# Union\n",
        "print(f\"The union of A and B = {A.union(B)}\")\n"
      ],
      "id": "50ceadf8a6baf587",
      "outputs": [],
      "execution_count": null
    },
    {
      "metadata": {
        "id": "eac2223ac687f06c"
      },
      "cell_type": "code",
      "source": [
        "# Intersection\n",
        "print(f\"The intersection of A and B = {A.intersection(B)}\")"
      ],
      "id": "eac2223ac687f06c",
      "outputs": [],
      "execution_count": null
    },
    {
      "metadata": {
        "id": "dcb43c40f58d5b99"
      },
      "cell_type": "code",
      "source": [
        "# Difference between sets\n",
        "print(f\"The difference of A and B = {A.difference(B)}\")"
      ],
      "id": "dcb43c40f58d5b99",
      "outputs": [],
      "execution_count": null
    },
    {
      "cell_type": "markdown",
      "id": "e1550885",
      "metadata": {
        "id": "e1550885"
      },
      "source": [
        "### A Quick Note on Mutability\n",
        "We saw that lists and dictionaries are mutable and that tuples are not. It may not be intuitive, but all of the single-item data types we have been working with are also **immutable**.\n",
        "\n",
        "Mutability is useful because we can change some elements of a list (or more complicated data structure) without redefining the entire structure everytime. Single-item data types do not have elements to change.\n",
        "\n",
        "Recall the following code from Lecture 2"
      ]
    },
    {
      "cell_type": "code",
      "id": "22b96114",
      "metadata": {
        "id": "22b96114"
      },
      "source": [
        "x = 10\n",
        "y = x\n",
        "x = 5\n",
        "print(y)"
      ],
      "outputs": [],
      "execution_count": null
    },
    {
      "cell_type": "markdown",
      "id": "e6dfa812",
      "metadata": {
        "id": "e6dfa812"
      },
      "source": [
        "Now, we will do the same thing twice with a mutable type."
      ]
    },
    {
      "cell_type": "code",
      "id": "87855ecd",
      "metadata": {
        "id": "87855ecd"
      },
      "source": [
        "x = [10]\n",
        "y = x\n",
        "x = [8]\n",
        "print(y)"
      ],
      "outputs": [],
      "execution_count": null
    },
    {
      "cell_type": "markdown",
      "id": "e77b3687",
      "metadata": {
        "id": "e77b3687"
      },
      "source": [
        "This is the same behavior for the same reason. `x` was assigned to the value `[10]` in memory. By assigning `y` to `x`, we just assigned it to the same value `x` is assigned to, `[10]`. Reassigning `x` just creates a new object in memory which `x` is then assigned to. `y` remains unchanged.\n",
        "\n",
        "If instead, we change the value of 10 using the following bracket notation, we get a different behavior:"
      ]
    },
    {
      "cell_type": "code",
      "id": "8459b7d4",
      "metadata": {
        "scrolled": true,
        "id": "8459b7d4"
      },
      "source": [
        "x = [10]\n",
        "y = x\n",
        "x[0] = 8\n",
        "print(y)"
      ],
      "outputs": [],
      "execution_count": null
    },
    {
      "cell_type": "markdown",
      "id": "6a68073e",
      "metadata": {
        "id": "6a68073e"
      },
      "source": [
        "Now `y` changes! This is because `x[0] = 8` changes the first element of the list `x` points to from 10 to 8. It does **not** reassign `x`! Since `x` and `y` are pointing to the same object and we edited the object `x` was pointing to, `print(y)` now displays the new object, `[8]`."
      ]
    },
    {
      "cell_type": "code",
      "id": "c59e7d0f",
      "metadata": {
        "id": "c59e7d0f"
      },
      "source": [],
      "outputs": [],
      "execution_count": null
    }
  ],
  "metadata": {
    "kernelspec": {
      "display_name": "Python 3 (ipykernel)",
      "language": "python",
      "name": "python3"
    },
    "language_info": {
      "codemirror_mode": {
        "name": "ipython",
        "version": 3
      },
      "file_extension": ".py",
      "mimetype": "text/x-python",
      "name": "python",
      "nbconvert_exporter": "python",
      "pygments_lexer": "ipython3",
      "version": "3.9.15"
    },
    "colab": {
      "provenance": []
    }
  },
  "nbformat": 4,
  "nbformat_minor": 5
}