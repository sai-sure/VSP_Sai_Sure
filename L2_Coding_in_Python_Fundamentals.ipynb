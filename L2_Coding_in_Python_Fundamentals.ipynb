{
  "cells": [
    {
      "cell_type": "markdown",
      "id": "432a1472",
      "metadata": {
        "id": "432a1472"
      },
      "source": [
        "# Lecture 2a -- Coding Fundamentals in Python\n",
        "This lecture explains the fundamentals of coding and illustrates them in Python. Through explanation and coding examples, students will learn about\n",
        "- variable assignment\n",
        "- displaying output in Jupyter Notebooks with and without `print()`\n",
        "- how and why to comment code\n",
        "- functions, objects, types, and their significance\n",
        "- modules, aliasing, how to import modules, and how to reference them using their alias\n",
        "- numerical types, basic numerical operations, and basic math functions\n",
        "- strings, string methods, and string formatting\n",
        "- boolean variables, comparison operators, and logical keywords\n",
        "\n",
        "The structure of this lecture closely follows the QuantEcon lectures on [Python Fundamentals](https://datascience.quantecon.org/python_fundamentals/index.html) sans the economics content. When it is relevant, comments on Jupyter functionality will be made."
      ]
    },
    {
      "cell_type": "markdown",
      "id": "b9822834",
      "metadata": {
        "id": "b9822834"
      },
      "source": [
        "## Variable Assignment\n",
        "One of the most fundamental concepts of coding in Python is **variable assignment**. That is, the act of assigning a variable name to a value. Below, multiple variable assigments and values are demonstrated.  \n",
        "1. The variable `x` is assigned a value of 20.\n",
        "2. The variable `y` is assigned the value of `x` plus 2.5.\n",
        "3. The variable `notanumber` is asigned a value of \"Hello World\"\n",
        "4. The variable `fruit_list` is assigned the list of values `[\"apple\", \"banana\", \"orange\"]`\n",
        "\n",
        "**Note 1**: Variable names are **case-sensitive**, so if you define a variable called `a`, you **cannot** reference it by calling `A`.\n",
        "\n",
        "**Note 2**: Some names cannot be used as they will conflict with names already defined within Python."
      ]
    },
    {
      "cell_type": "code",
      "source": [
        "x = 20"
      ],
      "metadata": {
        "id": "aD5Xj6pXy9SO"
      },
      "id": "aD5Xj6pXy9SO",
      "execution_count": 1,
      "outputs": []
    },
    {
      "cell_type": "code",
      "source": [
        "y = x + 2.5"
      ],
      "metadata": {
        "id": "lY8hoKAp0UTN"
      },
      "id": "lY8hoKAp0UTN",
      "execution_count": 2,
      "outputs": []
    },
    {
      "cell_type": "code",
      "id": "cf2d531e",
      "metadata": {
        "id": "cf2d531e"
      },
      "source": [
        "x = 20\n",
        "y = x + 2.5\n",
        "notanumber = \"Hello World\"\n",
        "fruit_list = [\"apple\", \"banana\", \"orange\"]"
      ],
      "outputs": [],
      "execution_count": 3
    },
    {
      "cell_type": "markdown",
      "id": "f8c174ff",
      "metadata": {
        "id": "f8c174ff"
      },
      "source": [
        "After running the aboves cells, we can display `x`, `y`, and `notanumber` by simply placing them in the boxes below."
      ]
    },
    {
      "cell_type": "code",
      "id": "73685729",
      "metadata": {
        "colab": {
          "base_uri": "https://localhost:8080/"
        },
        "id": "73685729",
        "outputId": "81efc3a8-6a1c-477e-854f-fc458793761c"
      },
      "source": [
        "x # This is a comment"
      ],
      "outputs": [
        {
          "output_type": "execute_result",
          "data": {
            "text/plain": [
              "20"
            ]
          },
          "metadata": {},
          "execution_count": 8
        }
      ],
      "execution_count": null
    },
    {
      "cell_type": "code",
      "id": "3c806385",
      "metadata": {
        "colab": {
          "base_uri": "https://localhost:8080/"
        },
        "id": "3c806385",
        "outputId": "1b00617d-42f8-43c5-a780-b567a3599a6f"
      },
      "source": [
        "y # This line of code prints x because it is the last line of a Jupyter cell"
      ],
      "outputs": [
        {
          "output_type": "execute_result",
          "data": {
            "text/plain": [
              "22.5"
            ]
          },
          "metadata": {},
          "execution_count": 9
        }
      ],
      "execution_count": null
    },
    {
      "cell_type": "code",
      "id": "9062c025",
      "metadata": {
        "colab": {
          "base_uri": "https://localhost:8080/",
          "height": 35
        },
        "id": "9062c025",
        "outputId": "f2aa3b56-4e75-45eb-d716-14bdfc94a7c2"
      },
      "source": [
        "notanumber # This is hello world"
      ],
      "outputs": [
        {
          "output_type": "execute_result",
          "data": {
            "text/plain": [
              "'Hello World'"
            ],
            "application/vnd.google.colaboratory.intrinsic+json": {
              "type": "string"
            }
          },
          "metadata": {},
          "execution_count": 10
        }
      ],
      "execution_count": null
    },
    {
      "cell_type": "code",
      "id": "ef4b1394",
      "metadata": {
        "colab": {
          "base_uri": "https://localhost:8080/"
        },
        "id": "ef4b1394",
        "outputId": "37cc6d99-575d-4e4c-b66a-56d301ba826a"
      },
      "source": [
        "fruit_list # This is a list of fruits"
      ],
      "outputs": [
        {
          "output_type": "execute_result",
          "data": {
            "text/plain": [
              "['apple', 'banana', 'orange']"
            ]
          },
          "metadata": {},
          "execution_count": 11
        }
      ],
      "execution_count": null
    },
    {
      "cell_type": "markdown",
      "id": "eca9bc08",
      "metadata": {
        "id": "eca9bc08"
      },
      "source": [
        "### Displaying in Jupyter Notebook\n",
        "By default, Jupyter notebooks will print the output of the **last line of code only**. That is why the variables need to be in separate boxes if we want to see all of their outputs.\n",
        "\n",
        "### Code Comments\n",
        "Note the use of comments in the code above. The `#` symbol indicates that the subsequent text is a comment, not part of code that the computer should execute. Comments can help others and your future self understand what code is supposed to do. In these lectures, comments are used to remind the lecturer of certain details. In general, you should not expect people to read comments in a Notebook. As a result, comments should **not** be the only source of essential information or answers to explicitly asked questions. That is what Markdown cells are for.\n",
        "\n",
        "### Print\n",
        "Alternatively, we can use `print()` to print each variable to the output of a single notebook cell.\n",
        "\n"
      ]
    },
    {
      "cell_type": "code",
      "id": "2e200386",
      "metadata": {
        "scrolled": true,
        "colab": {
          "base_uri": "https://localhost:8080/"
        },
        "id": "2e200386",
        "outputId": "799a5f9c-610a-4890-c954-aba72b95928f"
      },
      "source": [
        "print(x)\n",
        "print(y)\n",
        "print(notanumber)\n",
        "print(fruit_list)"
      ],
      "outputs": [
        {
          "output_type": "stream",
          "name": "stdout",
          "text": [
            "20\n",
            "22.5\n",
            "Hello World\n",
            "['apple', 'banana', 'orange']\n"
          ]
        }
      ],
      "execution_count": null
    },
    {
      "cell_type": "markdown",
      "id": "d7592e09",
      "metadata": {
        "id": "d7592e09"
      },
      "source": [
        "### Reassigning a Variable Name\n",
        "If the cells of this notebook are executed sequentially, `x` will be equal to 20 at this point. We can, however, reassign `x` to a different value. Let's observe what happens to `x` and `y` when we redefine `x` (recall we set `y = x + 2.5`)."
      ]
    },
    {
      "cell_type": "code",
      "id": "cb3c430e",
      "metadata": {
        "scrolled": true,
        "colab": {
          "base_uri": "https://localhost:8080/"
        },
        "id": "cb3c430e",
        "outputId": "44e6cca1-0ff0-41e0-e5b4-14fd74b2b44b"
      },
      "source": [
        "x = 10\n",
        "print(x)\n",
        "print(y)\n",
        "print(x+y)"
      ],
      "outputs": [
        {
          "output_type": "stream",
          "name": "stdout",
          "text": [
            "10\n",
            "12.5\n",
            "22.5\n"
          ]
        }
      ],
      "execution_count": 15
    },
    {
      "cell_type": "code",
      "source": [
        "x = 10"
      ],
      "metadata": {
        "id": "HO4OkdcL2fzj"
      },
      "id": "HO4OkdcL2fzj",
      "execution_count": 20,
      "outputs": []
    },
    {
      "cell_type": "code",
      "source": [
        "y = x + 2.5\n",
        "print(y)"
      ],
      "metadata": {
        "colab": {
          "base_uri": "https://localhost:8080/"
        },
        "id": "-YUE-Q5E2bNV",
        "outputId": "23c96b6c-e51f-4f56-f584-971a14def9d2"
      },
      "id": "-YUE-Q5E2bNV",
      "execution_count": 19,
      "outputs": [
        {
          "output_type": "stream",
          "name": "stdout",
          "text": [
            "7.5\n"
          ]
        }
      ]
    },
    {
      "cell_type": "code",
      "source": [
        "x\n",
        "print(\"X is correct\")\n",
        "y\n",
        "print(\"Y is correct\")\n",
        "z\n",
        "print(\"Z is correct\")\n",
        "#because the code is published line by line, this is a method of debugging.\n"
      ],
      "metadata": {
        "colab": {
          "base_uri": "https://localhost:8080/",
          "height": 245
        },
        "id": "SPgc9p-f1Nim",
        "outputId": "3f3eb383-4c5c-4bc7-b0d5-25deb4f6b14d"
      },
      "id": "SPgc9p-f1Nim",
      "execution_count": null,
      "outputs": [
        {
          "output_type": "stream",
          "name": "stdout",
          "text": [
            "X is correct\n",
            "Y is correct\n"
          ]
        },
        {
          "output_type": "error",
          "ename": "NameError",
          "evalue": "name 'z' is not defined",
          "traceback": [
            "\u001b[0;31m---------------------------------------------------------------------------\u001b[0m",
            "\u001b[0;31mNameError\u001b[0m                                 Traceback (most recent call last)",
            "\u001b[0;32m<ipython-input-24-405b8d33b949>\u001b[0m in \u001b[0;36m<cell line: 5>\u001b[0;34m()\u001b[0m\n\u001b[1;32m      3\u001b[0m \u001b[0my\u001b[0m\u001b[0;34m\u001b[0m\u001b[0;34m\u001b[0m\u001b[0m\n\u001b[1;32m      4\u001b[0m \u001b[0mprint\u001b[0m\u001b[0;34m(\u001b[0m\u001b[0;34m\"Y is correct\"\u001b[0m\u001b[0;34m)\u001b[0m\u001b[0;34m\u001b[0m\u001b[0;34m\u001b[0m\u001b[0m\n\u001b[0;32m----> 5\u001b[0;31m \u001b[0mz\u001b[0m\u001b[0;34m\u001b[0m\u001b[0;34m\u001b[0m\u001b[0m\n\u001b[0m\u001b[1;32m      6\u001b[0m \u001b[0mprint\u001b[0m\u001b[0;34m(\u001b[0m\u001b[0;34m\"Z is correct\"\u001b[0m\u001b[0;34m)\u001b[0m\u001b[0;34m\u001b[0m\u001b[0;34m\u001b[0m\u001b[0m\n\u001b[1;32m      7\u001b[0m \u001b[0;31m#because the code is published line by line, this is a method of debugging.\u001b[0m\u001b[0;34m\u001b[0m\u001b[0;34m\u001b[0m\u001b[0m\n",
            "\u001b[0;31mNameError\u001b[0m: name 'z' is not defined"
          ]
        }
      ]
    },
    {
      "cell_type": "markdown",
      "id": "8629d2e7",
      "metadata": {
        "id": "8629d2e7"
      },
      "source": [
        "Note that `y` is still equal to 22.5 even though `x` is now 10 (instead of 20). This is because `x` was equal to 20 when we assigned `y` to `x + 2.5` and that value was locked in, so changing the value of `x` after we assigned `y` does not affect the value of `y`.\n",
        "\n",
        "Even when we set `y` equal to `x` (which is now 10) and change `x`, `y` will still be equal to `x`'s old value."
      ]
    },
    {
      "cell_type": "code",
      "id": "e07481b8",
      "metadata": {
        "colab": {
          "base_uri": "https://localhost:8080/"
        },
        "id": "e07481b8",
        "outputId": "7b8759c1-9e8a-4eaa-c1b4-10b10bc92141"
      },
      "source": [
        "y = x #equivalent y = 10\n",
        "x = 5\n",
        "print(y) # y is still ten"
      ],
      "outputs": [
        {
          "output_type": "stream",
          "name": "stdout",
          "text": [
            "10\n"
          ]
        }
      ],
      "execution_count": 16
    },
    {
      "cell_type": "code",
      "source": [
        "print (\"yes\")\n"
      ],
      "metadata": {
        "colab": {
          "base_uri": "https://localhost:8080/"
        },
        "id": "4SdnCTj73IOf",
        "outputId": "4b5557c3-dff7-47ac-eb47-738dc6076a59"
      },
      "id": "4SdnCTj73IOf",
      "execution_count": null,
      "outputs": [
        {
          "output_type": "stream",
          "name": "stdout",
          "text": [
            "yes\n"
          ]
        }
      ]
    },
    {
      "cell_type": "code",
      "source": [
        "print(\"yes\")\n"
      ],
      "metadata": {
        "colab": {
          "base_uri": "https://localhost:8080/"
        },
        "id": "RX1U0GL63Kx5",
        "outputId": "d4bb7dbc-dff6-467f-e206-c5a5235d8791"
      },
      "id": "RX1U0GL63Kx5",
      "execution_count": null,
      "outputs": [
        {
          "output_type": "stream",
          "name": "stdout",
          "text": [
            "yes\n"
          ]
        }
      ]
    },
    {
      "cell_type": "code",
      "source": [
        "print('yes')"
      ],
      "metadata": {
        "id": "dWRrMufD30Fj",
        "outputId": "a6271ce0-ca57-42ec-d64c-207ede71ca38",
        "colab": {
          "base_uri": "https://localhost:8080/"
        }
      },
      "id": "dWRrMufD30Fj",
      "execution_count": null,
      "outputs": [
        {
          "output_type": "stream",
          "name": "stdout",
          "text": [
            "yes\n"
          ]
        }
      ]
    },
    {
      "cell_type": "code",
      "source": [
        "print (yes)\n",
        "# the \"\" indicates that it is text"
      ],
      "metadata": {
        "colab": {
          "base_uri": "https://localhost:8080/",
          "height": 158
        },
        "id": "LKUOkwOt3POr",
        "outputId": "864268db-cd17-4ba7-a353-e67e63a5d579"
      },
      "id": "LKUOkwOt3POr",
      "execution_count": null,
      "outputs": [
        {
          "output_type": "error",
          "ename": "NameError",
          "evalue": "name 'yes' is not defined",
          "traceback": [
            "\u001b[0;31m---------------------------------------------------------------------------\u001b[0m",
            "\u001b[0;31mNameError\u001b[0m                                 Traceback (most recent call last)",
            "\u001b[0;32m<ipython-input-35-8ce6410f79be>\u001b[0m in \u001b[0;36m<cell line: 1>\u001b[0;34m()\u001b[0m\n\u001b[0;32m----> 1\u001b[0;31m \u001b[0mprint\u001b[0m \u001b[0;34m(\u001b[0m\u001b[0myes\u001b[0m\u001b[0;34m)\u001b[0m\u001b[0;34m\u001b[0m\u001b[0;34m\u001b[0m\u001b[0m\n\u001b[0m\u001b[1;32m      2\u001b[0m \u001b[0;31m# the \"\" indicates that it is text\u001b[0m\u001b[0;34m\u001b[0m\u001b[0;34m\u001b[0m\u001b[0m\n",
            "\u001b[0;31mNameError\u001b[0m: name 'yes' is not defined"
          ]
        }
      ]
    },
    {
      "cell_type": "markdown",
      "id": "f0b1d345",
      "metadata": {
        "id": "f0b1d345"
      },
      "source": [
        "this has to do with a concept called `mutability` which we will discuss later.\n",
        "\n",
        "For now think of it this way, `x` was assigned to the value 10 in memory. By assigning `y` to `x`, we just assigned it to the same value `x` is assigned to, 10.\n",
        "\n",
        "When we later reassign `x` to 5, we are simply creating a new object which `x` is then assigned to. `y` does not \"follow\" `x` to this new object."
      ]
    },
    {
      "cell_type": "markdown",
      "id": "f98a0a76",
      "metadata": {
        "id": "f98a0a76"
      },
      "source": [
        "### Functions\n",
        "Print is an example of a a **function**. Generally speaking, a **function** is some code that takes an input and either produces an output or manipulates variables. `print()` takes an input and displays it in the Jupyter cell's output. Note that there is a difference between `print` and `print()`. The former is essentially a variable name for a function but the  "
      ]
    },
    {
      "cell_type": "markdown",
      "id": "5c7e8f16",
      "metadata": {
        "id": "5c7e8f16"
      },
      "source": [
        "### Objects\n",
        "Essentially everything, including functions and variables, are called **objects**. All objects are saved into memory (specifically RAM) and the value of that object (e.g. \"Hello World\") can be accessed by referencing the variable name (e.g. `notanumber`) as above.\n",
        "\n",
        "(*Note:* If you reference an object before it has been assigned you will get an error. You can restart the python Kernel to clear previously created variables.)\n",
        "### Types\n",
        "**Types** help us categorize objects that have like properties and desired behavior. Things of like types should be treated similarly by functions. The type of a variable describes the kind of data stored in it. We can call the function `type()` on the previously generated variables and the function `print`.  "
      ]
    },
    {
      "cell_type": "code",
      "source": [
        "y"
      ],
      "metadata": {
        "colab": {
          "base_uri": "https://localhost:8080/"
        },
        "id": "dCsjc41xhQL7",
        "outputId": "7529c682-109b-45e5-a373-ba2261591392"
      },
      "id": "dCsjc41xhQL7",
      "execution_count": 18,
      "outputs": [
        {
          "output_type": "execute_result",
          "data": {
            "text/plain": [
              "10"
            ]
          },
          "metadata": {},
          "execution_count": 18
        }
      ]
    },
    {
      "cell_type": "code",
      "id": "45ab740c",
      "metadata": {
        "scrolled": true,
        "colab": {
          "base_uri": "https://localhost:8080/"
        },
        "id": "45ab740c",
        "outputId": "e582740a-d8e9-4399-8062-9490701bfb10"
      },
      "source": [
        "print(type(x))\n",
        "print(type(y)) #float is the type assigned to any number that is not an integer\n",
        "print(type(notanumber))\n",
        "print(type(fruit_list))\n",
        "print(type(print))\n",
        "print(type(\"hello world\"))\n"
      ],
      "outputs": [
        {
          "output_type": "stream",
          "name": "stdout",
          "text": [
            "<class 'int'>\n",
            "<class 'float'>\n",
            "<class 'str'>\n",
            "<class 'list'>\n",
            "<class 'builtin_function_or_method'>\n",
            "<class 'str'>\n"
          ]
        }
      ],
      "execution_count": 6
    },
    {
      "cell_type": "markdown",
      "id": "e20859c2",
      "metadata": {
        "id": "e20859c2"
      },
      "source": [
        "Interpreting the output tells us that `x` is an integer number (int), `y` is a floating point number (float), `notanumber` is a string (str), and `fruit_list` is a list (list).  Even `functions` have a type that lets the computer know it should be treated as a function.\n",
        "\n",
        "### Types as Context\n",
        "To see the imporance of types, it helps to think about what you might want to do with objects of each type. For instance, you can add two numbers together, so it makes sense to add `x` and `y`."
      ]
    },
    {
      "cell_type": "code",
      "source": [
        "# 10 + 20\n",
        "a = \"10\"\n",
        "b = \"20\"\n",
        "print(a + b)"
      ],
      "metadata": {
        "colab": {
          "base_uri": "https://localhost:8080/"
        },
        "id": "6ptNfMWYh8ru",
        "outputId": "6e54a617-4a7a-42b7-f69a-2080f3acef39"
      },
      "id": "6ptNfMWYh8ru",
      "execution_count": 9,
      "outputs": [
        {
          "output_type": "stream",
          "name": "stdout",
          "text": [
            "1020\n"
          ]
        }
      ]
    },
    {
      "cell_type": "code",
      "source": [
        "type(a+b)"
      ],
      "metadata": {
        "colab": {
          "base_uri": "https://localhost:8080/"
        },
        "id": "gx29w4dViH1B",
        "outputId": "e7971208-4ad8-490c-a381-19ba53e0b34a"
      },
      "id": "gx29w4dViH1B",
      "execution_count": 10,
      "outputs": [
        {
          "output_type": "execute_result",
          "data": {
            "text/plain": [
              "str"
            ]
          },
          "metadata": {},
          "execution_count": 10
        }
      ]
    },
    {
      "cell_type": "code",
      "source": [
        "a = 10\n",
        "b = 20\n",
        "print(type(a+b))\n",
        "print(a+b)"
      ],
      "metadata": {
        "colab": {
          "base_uri": "https://localhost:8080/"
        },
        "id": "bCVix8kTiPSR",
        "outputId": "3815ea8c-333d-4c7c-999d-33adf5b679ff"
      },
      "id": "bCVix8kTiPSR",
      "execution_count": 13,
      "outputs": [
        {
          "output_type": "stream",
          "name": "stdout",
          "text": [
            "<class 'int'>\n",
            "30\n"
          ]
        }
      ]
    },
    {
      "cell_type": "code",
      "id": "190a6865",
      "metadata": {
        "scrolled": true,
        "id": "190a6865",
        "colab": {
          "base_uri": "https://localhost:8080/"
        },
        "outputId": "42029983-385d-4e1c-eb72-c9d2fe007df5"
      },
      "source": [
        "print(x + y) # adding two numbers does what we expect"
      ],
      "outputs": [
        {
          "output_type": "stream",
          "name": "stdout",
          "text": [
            "17.5\n"
          ]
        }
      ],
      "execution_count": 21
    },
    {
      "cell_type": "markdown",
      "id": "a6c093f4",
      "metadata": {
        "id": "a6c093f4"
      },
      "source": [
        "This is the usual alegebraic addition we all know, but what happens when we add two strings or two lists?"
      ]
    },
    {
      "cell_type": "code",
      "id": "70275184",
      "metadata": {
        "scrolled": true,
        "id": "70275184",
        "colab": {
          "base_uri": "https://localhost:8080/"
        },
        "outputId": "3d62eb45-f535-4c34-c7e9-2aa71f525ef1"
      },
      "source": [
        "print(notanumber + \" how are you?\") #addition of strings\n",
        "print(fruit_list + [\"raspberry\", \"strawberry\"]) #operation with lists"
      ],
      "outputs": [
        {
          "output_type": "stream",
          "name": "stdout",
          "text": [
            "Hello World how are you?\n",
            "['apple', 'banana', 'orange', 'raspberry', 'strawberry']\n"
          ]
        }
      ],
      "execution_count": 14
    },
    {
      "cell_type": "code",
      "source": [
        "#operation with list\n",
        "print(fruit_list)"
      ],
      "metadata": {
        "colab": {
          "base_uri": "https://localhost:8080/"
        },
        "id": "CwlnD50VjC_9",
        "outputId": "4716475d-6a30-4fdf-eae9-6840ef978a88"
      },
      "id": "CwlnD50VjC_9",
      "execution_count": 22,
      "outputs": [
        {
          "output_type": "stream",
          "name": "stdout",
          "text": [
            "['apple', 'banana', 'orange']\n"
          ]
        }
      ]
    },
    {
      "cell_type": "markdown",
      "id": "5af42d96",
      "metadata": {
        "id": "5af42d96"
      },
      "source": [
        "The `+` operator concatenates strings and lists into one string or list respectively. Since the computer knows what type each variable is, it can tell what `+` means through context alone and the operator `+` can be used for all three operations even though they manipulate different data types in fundamentally different ways.\n",
        "\n",
        "Similarly, some objects such as strings and lists have some notion of length wheras numerical values do not.  We can ascertain the size of the string or list using the function `len()` and we can reference individual elements using bracket notation."
      ]
    },
    {
      "cell_type": "code",
      "id": "84cf1b54",
      "metadata": {
        "scrolled": true,
        "id": "84cf1b54",
        "colab": {
          "base_uri": "https://localhost:8080/"
        },
        "outputId": "3a1606cd-c6b8-41b5-e9f2-8165f1478760"
      },
      "source": [
        "print(len(fruit_list)) # Print the number of elements of fruit_list (3)\n"
      ],
      "outputs": [
        {
          "output_type": "stream",
          "name": "stdout",
          "text": [
            "3\n"
          ]
        }
      ],
      "execution_count": 23
    },
    {
      "cell_type": "code",
      "source": [
        "fruit_list = fruit_list + ['raspberry', 'strawberry']"
      ],
      "metadata": {
        "id": "W-Bcn60xjnPm"
      },
      "id": "W-Bcn60xjnPm",
      "execution_count": 26,
      "outputs": []
    },
    {
      "cell_type": "code",
      "source": [
        "print(len(fruit_list))"
      ],
      "metadata": {
        "colab": {
          "base_uri": "https://localhost:8080/"
        },
        "id": "nnbzANqGjycU",
        "outputId": "d23cf193-67c7-4a9f-f6f0-0524bb2c1862"
      },
      "id": "nnbzANqGjycU",
      "execution_count": 27,
      "outputs": [
        {
          "output_type": "stream",
          "name": "stdout",
          "text": [
            "5\n"
          ]
        }
      ]
    },
    {
      "cell_type": "code",
      "source": [
        "print(fruit_list)"
      ],
      "metadata": {
        "colab": {
          "base_uri": "https://localhost:8080/"
        },
        "id": "fshI6TV_j0p8",
        "outputId": "55c05663-e79b-4718-88c2-59de494f8d07"
      },
      "id": "fshI6TV_j0p8",
      "execution_count": 28,
      "outputs": [
        {
          "output_type": "stream",
          "name": "stdout",
          "text": [
            "['apple', 'banana', 'orange', 'raspberry', 'strawberry']\n"
          ]
        }
      ]
    },
    {
      "cell_type": "code",
      "source": [
        "len(notanumber) # Print the number of characters in notanumber (11)"
      ],
      "metadata": {
        "colab": {
          "base_uri": "https://localhost:8080/"
        },
        "id": "nsm4GQCujULG",
        "outputId": "5ccc9a13-bbc7-477c-e105-7129f286b217"
      },
      "id": "nsm4GQCujULG",
      "execution_count": 29,
      "outputs": [
        {
          "output_type": "execute_result",
          "data": {
            "text/plain": [
              "11"
            ]
          },
          "metadata": {},
          "execution_count": 29
        }
      ]
    },
    {
      "cell_type": "markdown",
      "source": [
        "**Methods**"
      ],
      "metadata": {
        "id": "nprXHLlpkq9C"
      },
      "id": "nprXHLlpkq9C"
    },
    {
      "cell_type": "markdown",
      "id": "f99ff7d3",
      "metadata": {
        "id": "f99ff7d3"
      },
      "source": [
        "Generally speaking, **methods** are simply functions that take a specific type of object as an input. While one could argue `len()` is a method,  in Python, method usually refers to functions that you call with dot notatation. For example, lists have a method called `append` that add a new item to the list. Below, we add `\"peach\"` to our list of fruits."
      ]
    },
    {
      "cell_type": "code",
      "source": [
        "fruit_list"
      ],
      "metadata": {
        "colab": {
          "base_uri": "https://localhost:8080/"
        },
        "id": "B18rxzgolUYx",
        "outputId": "79d49b10-c63d-478f-fc7d-1b300d08d72f"
      },
      "id": "B18rxzgolUYx",
      "execution_count": 31,
      "outputs": [
        {
          "output_type": "execute_result",
          "data": {
            "text/plain": [
              "['apple', 'banana', 'orange', 'raspberry', 'strawberry']"
            ]
          },
          "metadata": {},
          "execution_count": 31
        }
      ]
    },
    {
      "cell_type": "code",
      "id": "66fddbe5",
      "metadata": {
        "id": "66fddbe5"
      },
      "source": [
        "fruit_list.append(\"peach\") # use the method append to add \"peach\" to the list fruit_list\n"
      ],
      "outputs": [],
      "execution_count": 32
    },
    {
      "cell_type": "code",
      "source": [
        "fruit_list"
      ],
      "metadata": {
        "colab": {
          "base_uri": "https://localhost:8080/"
        },
        "id": "3cH8YfQYlaQV",
        "outputId": "d6b9c011-3cfb-4077-c923-cd776af7410c"
      },
      "id": "3cH8YfQYlaQV",
      "execution_count": 33,
      "outputs": [
        {
          "output_type": "execute_result",
          "data": {
            "text/plain": [
              "['apple', 'banana', 'orange', 'raspberry', 'strawberry', 'peach']"
            ]
          },
          "metadata": {},
          "execution_count": 33
        }
      ]
    },
    {
      "cell_type": "code",
      "source": [
        "fruit_list + ['mango']"
      ],
      "metadata": {
        "colab": {
          "base_uri": "https://localhost:8080/"
        },
        "id": "V5NqtwrymKMO",
        "outputId": "6b641f2b-b27f-4280-a993-56bf821efbee"
      },
      "id": "V5NqtwrymKMO",
      "execution_count": 34,
      "outputs": [
        {
          "output_type": "execute_result",
          "data": {
            "text/plain": [
              "['apple', 'banana', 'orange', 'raspberry', 'strawberry', 'peach', 'mango']"
            ]
          },
          "metadata": {},
          "execution_count": 34
        }
      ]
    },
    {
      "cell_type": "code",
      "source": [
        "print(fruit_list)\n",
        "\n",
        "# what you are supposed to use: either append or fruit_list = fruit_list + ['mango']"
      ],
      "metadata": {
        "colab": {
          "base_uri": "https://localhost:8080/"
        },
        "id": "SghKTDKGmNa9",
        "outputId": "bb912022-d6b7-4387-b36c-93bc08661691"
      },
      "id": "SghKTDKGmNa9",
      "execution_count": 35,
      "outputs": [
        {
          "output_type": "stream",
          "name": "stdout",
          "text": [
            "['apple', 'banana', 'orange', 'raspberry', 'strawberry', 'peach']\n"
          ]
        }
      ]
    },
    {
      "cell_type": "markdown",
      "id": "194c515e",
      "metadata": {
        "id": "194c515e"
      },
      "source": [
        "Strings also have their own methods. For example, we can split a string up into a list of smaller strings by using a separating character (such as a space) and save it as a list:"
      ]
    },
    {
      "cell_type": "code",
      "id": "9df55f91",
      "metadata": {
        "id": "9df55f91",
        "colab": {
          "base_uri": "https://localhost:8080/"
        },
        "outputId": "ee6f63f3-64c4-402b-aeee-b2b33a387f30"
      },
      "source": [
        "word_list = \"Vancouver Summer Program\".split(\" \")\n",
        "word_list # results in a list\n",
        "\n",
        "#only works for strings and not lists"
      ],
      "outputs": [
        {
          "output_type": "execute_result",
          "data": {
            "text/plain": [
              "['Vancouver', 'Summer', 'Program']"
            ]
          },
          "metadata": {},
          "execution_count": 36
        }
      ],
      "execution_count": 36
    },
    {
      "cell_type": "code",
      "source": [
        "word_list.count('Vancouver')\n"
      ],
      "metadata": {
        "colab": {
          "base_uri": "https://localhost:8080/"
        },
        "id": "p7WCUMLimnwU",
        "outputId": "14e94e69-6a85-4833-f5e7-d7552ae9f99b"
      },
      "id": "p7WCUMLimnwU",
      "execution_count": 43,
      "outputs": [
        {
          "output_type": "execute_result",
          "data": {
            "text/plain": [
              "1"
            ]
          },
          "metadata": {},
          "execution_count": 43
        }
      ]
    },
    {
      "cell_type": "markdown",
      "id": "91442a79",
      "metadata": {
        "id": "91442a79"
      },
      "source": [
        "After assigning a variable into memory, you can see a list of methods and data associated with a given object using **tab completion**. To do this, type the variable name followed by a period. Then, hit the tab key on your computer. We demonstrate in the cell below:"
      ]
    },
    {
      "cell_type": "code",
      "id": "d7b051ad",
      "metadata": {
        "scrolled": true,
        "id": "d7b051ad",
        "colab": {
          "base_uri": "https://localhost:8080/"
        },
        "outputId": "6064933c-884c-497e-dd5b-0f12dab8ddcc"
      },
      "source": [
        "word_list.copy"
      ],
      "outputs": [
        {
          "output_type": "execute_result",
          "data": {
            "text/plain": [
              "<function list.copy()>"
            ]
          },
          "metadata": {},
          "execution_count": 44
        }
      ],
      "execution_count": 44
    },
    {
      "cell_type": "markdown",
      "id": "005f800e",
      "metadata": {
        "id": "005f800e"
      },
      "source": [
        "## Modules\n",
        "Modules (also known as packages) are a collection of programming tools. These packages come with pre-built, purpose-specific data structures, functions, and macros among many other things. Open source packages in Python are abundant -- this means you as a programmer do not have to write code to use it. Even if you can write functionally identical code, the package code will likely be faster as package code tends to be highly optimized. Sometimes, modules lean on code written in other languages to gain a performance advantange. Some packages we will be learning are\n",
        "- pandas for data cleaning, wrangling, and analysis\n",
        "- matplotlib for visualization\n",
        "- numpy for arrays and associated mathematical operations (matrices and vectors)\n",
        "- scikit-learn for a wide array off predictive analysis techniques\n",
        "To use modules you must first import them:"
      ]
    },
    {
      "cell_type": "code",
      "id": "12191f68",
      "metadata": {
        "id": "12191f68"
      },
      "source": [
        "import pandas as pd\n",
        "import matplotlib.pyplot as plt\n",
        "import numpy as np\n",
        "import sklearn as skl"
      ],
      "outputs": [],
      "execution_count": 45
    },
    {
      "cell_type": "markdown",
      "id": "80d93371",
      "metadata": {
        "id": "80d93371"
      },
      "source": [
        "`pd`, `mpl`, `np`, and `skl` are aliases for their respective packages. These allows us to refer to the packages in an abbreviated manner. For example, I can call the function `plot` from the `matplotlib.pyplot` package on two lists and plot their elements as if they were"
      ]
    },
    {
      "cell_type": "code",
      "id": "d03c8e49",
      "metadata": {
        "scrolled": true,
        "id": "d03c8e49",
        "colab": {
          "base_uri": "https://localhost:8080/",
          "height": 447
        },
        "outputId": "9e891c43-57f8-44a8-9210-b75ca1904e02"
      },
      "source": [
        "x = [0, 1, 2, 3, 4, 5]\n",
        "xsq = [0, 1, 4, 9, 16, 25] # x squared\n",
        "plt.scatter(x, xsq) # This is a lot easier to type out than pyplot.plot(x,xsq)\n",
        "plt.plot(x,xsq) # Note how this adds to the already existing plot"
      ],
      "outputs": [
        {
          "output_type": "execute_result",
          "data": {
            "text/plain": [
              "[<matplotlib.lines.Line2D at 0x7d93aad931f0>]"
            ]
          },
          "metadata": {},
          "execution_count": 46
        },
        {
          "output_type": "display_data",
          "data": {
            "text/plain": [
              "<Figure size 640x480 with 1 Axes>"
            ],
            "image/png": "[encoded data removed]"
          },
          "metadata": {}
        }
      ],
      "execution_count": 46
    },
    {
      "cell_type": "markdown",
      "id": "6fce842a",
      "metadata": {
        "id": "6fce842a"
      },
      "source": [
        "### Modules Need to be Installed!\n",
        "If you try and import a module that is not in your Python environment, you will receive an error `No Module named <module_name>`.\n",
        "\n",
        "This means you will have to install it. Most of the time, this can be done with the magic command `%pip install <package_name>`.\n",
        "\n",
        "If you already have the package installed, this command will return a message that begins with `Requirement already satisfied`"
      ]
    },
    {
      "cell_type": "code",
      "id": "30edb68a",
      "metadata": {
        "id": "30edb68a",
        "colab": {
          "base_uri": "https://localhost:8080/"
        },
        "outputId": "fe3f2a74-54b6-46c7-fd09-cb8bc57f3f9a"
      },
      "source": [
        "%pip install numpy"
      ],
      "outputs": [
        {
          "output_type": "stream",
          "name": "stdout",
          "text": [
            "Requirement already satisfied: numpy in /usr/local/lib/python3.10/dist-packages (1.25.2)\n"
          ]
        }
      ],
      "execution_count": 47
    },
    {
      "cell_type": "markdown",
      "id": "28fdb575",
      "metadata": {
        "id": "28fdb575"
      },
      "source": [
        "## Numerical Types & Basic Arithmetic in Python\n",
        "There are two main types of numbers in Python: integers (data type int) and floating points (data type float). Integers can only represent integer numbers whereas floating points can represent decimals, fractions, etc. Observe the type of the objects below"
      ]
    },
    {
      "cell_type": "code",
      "id": "8892ba6c",
      "metadata": {
        "id": "8892ba6c",
        "colab": {
          "base_uri": "https://localhost:8080/"
        },
        "outputId": "7a6496d6-fb65-4e67-cff3-8e9a02ea64b5"
      },
      "source": [
        "# Integers\n",
        "print(type(4))\n",
        "\n",
        "# Floats\n",
        "print(type(3.4))\n",
        "print(type(4.0)) # Note how this is a float because we included the .0 after the 4.\n"
      ],
      "outputs": [
        {
          "output_type": "stream",
          "name": "stdout",
          "text": [
            "<class 'int'>\n",
            "<class 'float'>\n",
            "<class 'float'>\n"
          ]
        }
      ],
      "execution_count": 48
    },
    {
      "cell_type": "markdown",
      "id": "d4db7d63",
      "metadata": {
        "id": "d4db7d63"
      },
      "source": [
        "### Pay Attention to Types!\n",
        "While integers and floats behave similarly when applying mathetmatical operations, the types matter. For example, if we want to access the third element of an element of `fruit_list`, we must set `idx` equal to `2`, not `2.0`.\n",
        "\n",
        "Try setting `idx` equal to 2.0 instead of 2 and see what happens below."
      ]
    },
    {
      "cell_type": "code",
      "source": [
        "fruit_list"
      ],
      "metadata": {
        "colab": {
          "base_uri": "https://localhost:8080/"
        },
        "id": "sY_QAqVqopM8",
        "outputId": "115b3e44-e9a8-4ce9-ef63-e7f857f293c3"
      },
      "id": "sY_QAqVqopM8",
      "execution_count": 50,
      "outputs": [
        {
          "output_type": "execute_result",
          "data": {
            "text/plain": [
              "['apple', 'banana', 'orange', 'raspberry', 'strawberry', 'peach']"
            ]
          },
          "metadata": {},
          "execution_count": 50
        }
      ]
    },
    {
      "cell_type": "code",
      "id": "29d92894",
      "metadata": {
        "id": "29d92894",
        "colab": {
          "base_uri": "https://localhost:8080/",
          "height": 35
        },
        "outputId": "24adcb5c-98db-4dd0-aa4d-3be0a9b6ca7e"
      },
      "source": [
        "idx = 2\n",
        "fruit_list[idx]\n",
        "#the third one comes up because they start with 0 and not 1"
      ],
      "outputs": [
        {
          "output_type": "execute_result",
          "data": {
            "text/plain": [
              "'orange'"
            ],
            "application/vnd.google.colaboratory.intrinsic+json": {
              "type": "string"
            }
          },
          "metadata": {},
          "execution_count": 52
        }
      ],
      "execution_count": 52
    },
    {
      "cell_type": "code",
      "source": [
        "idx = 0\n",
        "fruit_list[idx]"
      ],
      "metadata": {
        "colab": {
          "base_uri": "https://localhost:8080/",
          "height": 35
        },
        "id": "KPZQkKwqoyVp",
        "outputId": "8dc95b4c-fd0e-44c5-b589-74bf0428efd2"
      },
      "id": "KPZQkKwqoyVp",
      "execution_count": 53,
      "outputs": [
        {
          "output_type": "execute_result",
          "data": {
            "text/plain": [
              "'apple'"
            ],
            "application/vnd.google.colaboratory.intrinsic+json": {
              "type": "string"
            }
          },
          "metadata": {},
          "execution_count": 53
        }
      ]
    },
    {
      "cell_type": "code",
      "source": [
        "#use square brackets for lists and normal brackets for functions. If you use normal in place of square the error type is 'not callable'"
      ],
      "metadata": {
        "id": "H50FwVxkpCeX"
      },
      "id": "H50FwVxkpCeX",
      "execution_count": null,
      "outputs": []
    },
    {
      "cell_type": "markdown",
      "id": "4b9e8293",
      "metadata": {
        "id": "4b9e8293"
      },
      "source": [
        "### Basic Arithmetic in Python\n",
        "All basic arithmetic operations have a relatively intuitive equivalent in Python:\n",
        "- `a + b` adds a to b\n",
        "- `a - b` subtracts b from a\n",
        "- `a * b` multiplies a and b\n",
        "- `a / b` divides a by b\n",
        "- `a ** b` raise a to the b-th power\n",
        "\n",
        "The last one is a bit abnormal because usually exponentiation is denoted by `^`, but this operator is actually reserved for something else.\n",
        "\n",
        "If both a and b are integer types, all of these operators except for division will also result in an integer. If either a or b are floats, then the resulting operation will also be a float. We can experiment with this below:\n"
      ]
    },
    {
      "cell_type": "code",
      "id": "7fb73138",
      "metadata": {
        "scrolled": true,
        "id": "7fb73138",
        "colab": {
          "base_uri": "https://localhost:8080/"
        },
        "outputId": "8890bd0c-73d3-4be3-ea09-2243d736f97d"
      },
      "source": [
        "a = 8\n",
        "b = 2\n",
        "print(type(a + b))\n",
        "print(type(a - b))\n",
        "print(type(a * b))\n",
        "print(type(a ** b))\n",
        "print(type(a / b)) # Note this results in a float even though a/b is an intger\n",
        "\n",
        "a = 8.0 # now a is a float, so all of the previous operations will now result in a float\n",
        "print(type(a + b))\n",
        "print(type(a - b))\n",
        "print(type(a * b))\n",
        "print(type(a ** b))\n",
        "print(type(a / b))\n"
      ],
      "outputs": [
        {
          "output_type": "stream",
          "name": "stdout",
          "text": [
            "<class 'int'>\n",
            "<class 'int'>\n",
            "<class 'int'>\n",
            "<class 'int'>\n",
            "<class 'float'>\n",
            "<class 'float'>\n",
            "<class 'float'>\n",
            "<class 'float'>\n",
            "<class 'float'>\n",
            "<class 'float'>\n"
          ]
        }
      ],
      "execution_count": 54
    },
    {
      "cell_type": "markdown",
      "id": "fa0cfdbd",
      "metadata": {
        "id": "fa0cfdbd"
      },
      "source": [
        "### Order of Operations\n",
        "Just like with mathematical notation, code respects the usual order of operations.\n",
        "1. Parentheses (not techincally an operation)\n",
        "2. Exponentiation\n",
        "3. Multiplication & Division\n",
        "4. Addition & Subtraction"
      ]
    },
    {
      "cell_type": "code",
      "id": "2a71dbe2",
      "metadata": {
        "id": "2a71dbe2",
        "colab": {
          "base_uri": "https://localhost:8080/"
        },
        "outputId": "750bcc02-07b9-43fa-c54d-3b6d72f64ee2"
      },
      "source": [
        "### Order of Operations Examples\n",
        "print( ((3 + 3) * 6) ** 2 )\n",
        "print( (3 + 3 * 6) ** 2 )\n",
        "print( 3 + 3 * 6 ** 2 )"
      ],
      "outputs": [
        {
          "output_type": "stream",
          "name": "stdout",
          "text": [
            "1296\n",
            "441\n",
            "111\n"
          ]
        }
      ],
      "execution_count": 55
    },
    {
      "cell_type": "markdown",
      "id": "50fcb951",
      "metadata": {
        "id": "50fcb951"
      },
      "source": [
        "### Other Mathematical Operations\n",
        "Other basic mathematical operations and objects, such as trigonometric functions, factorials, mathetmatical constants, etc. can be used by importing the math module as seen below."
      ]
    },
    {
      "cell_type": "code",
      "id": "b51a9b66",
      "metadata": {
        "id": "b51a9b66",
        "colab": {
          "base_uri": "https://localhost:8080/"
        },
        "outputId": "9e6345be-3dac-4e8a-8db5-1e1703ad7771"
      },
      "source": [
        "import math\n",
        "print(round(math.sin(math.pi), 4))\n",
        "print(math.factorial(4))"
      ],
      "outputs": [
        {
          "output_type": "stream",
          "name": "stdout",
          "text": [
            "0.0\n",
            "24\n"
          ]
        }
      ],
      "execution_count": 60
    },
    {
      "cell_type": "markdown",
      "id": "78056854",
      "metadata": {
        "id": "78056854"
      },
      "source": [
        "## Working with Strings in Python\n",
        "While highly unstructured, text data is one of the most abundant forms of data. In fact, Chat GPT and other Large Language Models (LLM) are trained on large amounts of text data.\n",
        "\n",
        "Not all text data, however, will be ready for analysis in its raw form. This makes being able to work with and manipulate strings very important. As we showed earlier, some mathematical operators work with strings:"
      ]
    },
    {
      "cell_type": "code",
      "id": "d68143dc",
      "metadata": {
        "scrolled": true,
        "id": "d68143dc",
        "colab": {
          "base_uri": "https://localhost:8080/"
        },
        "outputId": "cb56b189-f51d-4df7-f0df-f6f80c481281"
      },
      "source": [
        "print(\"Hi! \" + \"How \" + \"are \" + \"you?\") # + combines strings into one\n",
        "print(3*\"three \") # multiplication of a string and an integer repeats the strings"
      ],
      "outputs": [
        {
          "output_type": "stream",
          "name": "stdout",
          "text": [
            "Hi! How are you?\n",
            "three three three \n"
          ]
        }
      ],
      "execution_count": 61
    },
    {
      "cell_type": "markdown",
      "id": "278eb2a7",
      "metadata": {
        "id": "278eb2a7"
      },
      "source": [
        "Most other operators do not make sense in the context of strings -- we can explore that below."
      ]
    },
    {
      "cell_type": "code",
      "id": "c0a521ca",
      "metadata": {
        "id": "c0a521ca"
      },
      "source": [
        "a = \"hi\"\n",
        "b = \"hello\"\n",
        "# a - b\n",
        "# a ** b\n",
        "# a * b\n",
        "# a * 3.3"
      ],
      "outputs": [],
      "execution_count": 62
    },
    {
      "cell_type": "code",
      "source": [
        "print(a)\n",
        "print(b)"
      ],
      "metadata": {
        "colab": {
          "base_uri": "https://localhost:8080/"
        },
        "id": "NKQnWIlktV0G",
        "outputId": "e7f79cfb-56ce-452e-d3cf-43c4398c656d"
      },
      "id": "NKQnWIlktV0G",
      "execution_count": 66,
      "outputs": [
        {
          "output_type": "stream",
          "name": "stdout",
          "text": [
            "hi\n",
            "hello\n"
          ]
        }
      ]
    },
    {
      "cell_type": "markdown",
      "id": "421a1f47",
      "metadata": {
        "id": "421a1f47"
      },
      "source": [
        "That being said, there's still plenty we can do with strings, such as change the case of characters in the string and count the number of ocurrences of a substring:"
      ]
    },
    {
      "cell_type": "code",
      "id": "e73c4b7d",
      "metadata": {
        "id": "e73c4b7d",
        "colab": {
          "base_uri": "https://localhost:8080/"
        },
        "outputId": "5e0a6469-3130-4143-c740-7e0909bb385b"
      },
      "source": [
        "a_cap = a.upper()\n",
        "print(a_cap)\n",
        "print(a_cap.lower())\n",
        "print(b.count(\"l\"))\n",
        "print(b.count(\"L\"))"
      ],
      "outputs": [
        {
          "output_type": "stream",
          "name": "stdout",
          "text": [
            "HI\n",
            "hi\n",
            "2\n",
            "0\n"
          ]
        }
      ],
      "execution_count": 64
    },
    {
      "cell_type": "code",
      "source": [
        "c = 'LEts Goooooo'"
      ],
      "metadata": {
        "id": "c479KIIAtoqU"
      },
      "id": "c479KIIAtoqU",
      "execution_count": 68,
      "outputs": []
    },
    {
      "cell_type": "code",
      "source": [
        "c_lower = c.lower()\n",
        "print(c.lower())"
      ],
      "metadata": {
        "colab": {
          "base_uri": "https://localhost:8080/"
        },
        "id": "ZH3N_wwatyqQ",
        "outputId": "204b4a31-aeb7-4a9b-ce44-fbdefd55ba9a"
      },
      "id": "ZH3N_wwatyqQ",
      "execution_count": 70,
      "outputs": [
        {
          "output_type": "stream",
          "name": "stdout",
          "text": [
            "lets goooooo\n"
          ]
        }
      ]
    },
    {
      "cell_type": "markdown",
      "id": "aab00c43",
      "metadata": {
        "id": "aab00c43"
      },
      "source": [
        "### Capitalization When Coding Matters!\n",
        "Note how `print(b.count(\"L\"))` resulted in a count of 0. This is because strings are case-sensitive in Python and no capital letters appear in `b`. This makes the `.lower()` and `.upper()` string methods even more important when dealing with raw data that may be inconsistently capitalized or when capitalization does not matter for one's purpose.\n",
        "\n",
        "### String Formatting\n",
        "String formatting allows us to customize the content of strings with variables we have defined. Below, we demonstrate two ways to format strings.  The first method is referred to as f-string and uses an `f` in front of a string to signify that the terms in `{}` should be interpreted as expressions that should be evaluated."
      ]
    },
    {
      "cell_type": "code",
      "id": "513d8e24",
      "metadata": {
        "id": "513d8e24",
        "colab": {
          "base_uri": "https://localhost:8080/"
        },
        "outputId": "7b79cb43-0056-4215-8d38-b5fc2a8b3761"
      },
      "source": [
        "# fstring method\n",
        "city = \"Vancouver\"\n",
        "country = \"Canada\"\n",
        "string_1 = f\"{city} is in {country}.\"\n",
        "print(string_1)"
      ],
      "outputs": [
        {
          "output_type": "stream",
          "name": "stdout",
          "text": [
            "Vancouver is in Canada.\n"
          ]
        }
      ],
      "execution_count": 71
    },
    {
      "cell_type": "markdown",
      "id": "00d2be6d",
      "metadata": {
        "id": "00d2be6d"
      },
      "source": [
        "Alternatively, we can call the `.format()` method on a string (without the `f` preceeding the string)"
      ]
    },
    {
      "cell_type": "code",
      "id": "cea1a3d5",
      "metadata": {
        "id": "cea1a3d5",
        "colab": {
          "base_uri": "https://localhost:8080/"
        },
        "outputId": "d6452d9d-e484-4314-dab6-46f0dca79654"
      },
      "source": [
        "# Method 2\n",
        "string_1 = \"{city} is in {country}.\"\n",
        "print(string_1.format(city = city, country = country))\n",
        "#fstring better is better"
      ],
      "outputs": [
        {
          "output_type": "stream",
          "name": "stdout",
          "text": [
            "Vancouver is in Canada.\n"
          ]
        }
      ],
      "execution_count": 72
    },
    {
      "cell_type": "markdown",
      "id": "f13eb4e0",
      "metadata": {
        "id": "f13eb4e0"
      },
      "source": [
        "## Introduction to Booleans\n",
        "Boolean variables can take one of two values (`True` or `False`). After reviewing control flow, it will become clear how important understanding boolean variables, and basic logic, is. For now, we will just define some boolean variables and discuss some expressions/keywords that result in boolean variables."
      ]
    },
    {
      "cell_type": "code",
      "id": "c2a530aa",
      "metadata": {
        "id": "c2a530aa",
        "colab": {
          "base_uri": "https://localhost:8080/"
        },
        "outputId": "3e70e613-6f7c-4b6a-929a-caa7f6d1f0fe"
      },
      "source": [
        "bool_true = True\n",
        "bool_false = False\n",
        "print(type(bool_true))\n",
        "print(type(bool_false))"
      ],
      "outputs": [
        {
          "output_type": "stream",
          "name": "stdout",
          "text": [
            "<class 'bool'>\n",
            "<class 'bool'>\n"
          ]
        }
      ],
      "execution_count": 75
    },
    {
      "cell_type": "markdown",
      "id": "3995e4c8",
      "metadata": {
        "id": "3995e4c8"
      },
      "source": [
        "### Comparison Operators\n",
        "Comparison operators allows us to ascertain whether a certain expression  (generally involving non-boolean variables) is true or false. The most common of these operators are\n",
        "- `==` equality\n",
        "- `>` strictly greater than\n",
        "- `<` strictly less than\n",
        "- `>=` greater than or equal to\n",
        "- `<=` less than or equal to\n",
        "\n",
        "Here are some examples where we use the comparison operators to evalue whether a statement is true or false."
      ]
    },
    {
      "cell_type": "code",
      "id": "10132734",
      "metadata": {
        "scrolled": false,
        "id": "10132734",
        "colab": {
          "base_uri": "https://localhost:8080/"
        },
        "outputId": "8313862a-d19f-496e-8947-4c6ad158588d"
      },
      "source": [
        "a = 4\n",
        "b = 2\n",
        "\n",
        "print(f\"The statement '{a} is equal to {b}'\", \"is\", a == b)\n",
        "print(f\"The statement '{a} is greater than {b}'\", \"is\", a > b)\n",
        "print(f\"The statement '{a} is less than {b}'\", \"is\", a < b)\n",
        "print(f\"The statement '{a} is greater than or equal to {b}'\", \"is\", a >= b)\n",
        "print(f\"The statement '{a} is less than or equal to {b}''\", \"is\", a <= b)"
      ],
      "outputs": [
        {
          "output_type": "stream",
          "name": "stdout",
          "text": [
            "The statement '4 is equal to 2' is False\n",
            "The statement '4 is greater than 2' is True\n",
            "The statement '4 is less than 2' is False\n",
            "The statement '4 is greater than or equal to 2' is True\n",
            "The statement '4 is less than or equal to 2'' is False\n"
          ]
        }
      ],
      "execution_count": 76
    },
    {
      "cell_type": "markdown",
      "id": "9754d6a0",
      "metadata": {
        "id": "9754d6a0"
      },
      "source": [
        "## Logical Keywords -- not, and, or\n",
        "As we will discuss in the control flow section, you will sometimes want to negate boolean variables. This can be done by using the keyword `not`."
      ]
    },
    {
      "cell_type": "code",
      "id": "a17cb1a7",
      "metadata": {
        "scrolled": true,
        "id": "a17cb1a7",
        "colab": {
          "base_uri": "https://localhost:8080/"
        },
        "outputId": "ab6f8c3b-648d-4a30-9f50-0469711f2ff8"
      },
      "source": [
        "print(not True)\n",
        "print(not False)\n",
        "print(not not True)\n",
        "print(not not False)"
      ],
      "outputs": [
        {
          "output_type": "stream",
          "name": "stdout",
          "text": [
            "False\n",
            "True\n",
            "True\n",
            "False\n"
          ]
        }
      ],
      "execution_count": 78
    },
    {
      "cell_type": "markdown",
      "id": "3cf2ac26",
      "metadata": {
        "id": "3cf2ac26"
      },
      "source": [
        "Similarly, we can use the words `and` and `or` to consider multiple boolean variables at once.\n",
        "\n",
        "**Be careful!** The mathematical/logical meanings of \"and\" and \"or\" are distinct from their usage in English.\n",
        "\n",
        "- If `a and b` is true, it means means both `a` is true and `b` is true. This is very similar to the English usage of \"and\".\n",
        "- If `a or b` is true, it means at least one of `a` or `b` is true. Whereas, english tends to use \"or\" to denote two mutually exclusive options (e.g. \"do you want to eat tacos or pizza for dinner?\") the logical `or` is not mutually exclusive -- `a or b` is true when both `a` and `b` are true as well.\n",
        "\n",
        "Here are some examples:"
      ]
    },
    {
      "cell_type": "code",
      "id": "13203fa1",
      "metadata": {
        "id": "13203fa1",
        "colab": {
          "base_uri": "https://localhost:8080/"
        },
        "outputId": "f92e0be2-19e5-4b44-c85a-bdd1a9ef6b03"
      },
      "source": [
        "print(True or True)\n",
        "print(True and True)\n",
        "print(True or False)\n",
        "print(True and False)\n",
        "print(False or False)\n",
        "print(False and False)\n",
        "print(False or True)\n",
        "#with 'or' thingies - if at least one is true, then the entire thing is true\n",
        "#with 'and' thingies - both have to be true for the entire thing to be true"
      ],
      "outputs": [
        {
          "output_type": "stream",
          "name": "stdout",
          "text": [
            "True\n",
            "True\n",
            "True\n",
            "False\n",
            "False\n",
            "False\n",
            "True\n"
          ]
        }
      ],
      "execution_count": 80
    },
    {
      "cell_type": "code",
      "source": [
        "bool_list = [True, True, 3<5]"
      ],
      "metadata": {
        "id": "v3Y4lSCUv1q9"
      },
      "id": "v3Y4lSCUv1q9",
      "execution_count": 81,
      "outputs": []
    },
    {
      "cell_type": "code",
      "source": [],
      "metadata": {
        "id": "C7RnF0-Ev61K"
      },
      "id": "C7RnF0-Ev61K",
      "execution_count": null,
      "outputs": []
    },
    {
      "cell_type": "markdown",
      "id": "82b87b14",
      "metadata": {
        "id": "82b87b14"
      },
      "source": [
        "### `all()` and `any()`\n",
        "`all()` and `any()` are respectively `and` and `or` applied to a list of more than two logical expressions or boolean variables. `all(bool_list)` returns true only if all of the logical expressions in `bool_list`are true wheras `any(bool_list)` returns true if one or more of the logical expressions are true."
      ]
    },
    {
      "cell_type": "code",
      "id": "d8a8e554",
      "metadata": {
        "id": "d8a8e554",
        "colab": {
          "base_uri": "https://localhost:8080/"
        },
        "outputId": "93900f8c-eba7-4b2c-ca72-18b0c7ab2726"
      },
      "source": [
        "bool_list = [True, True, 3<5]\n",
        "print(f\"any({bool_list}) is\", any(bool_list))\n",
        "print(f\"all({bool_list}) is\", all(bool_list))\n"
      ],
      "outputs": [
        {
          "output_type": "stream",
          "name": "stdout",
          "text": [
            "any([True, True, True]) is True\n",
            "all([True, True, True]) is True\n"
          ]
        }
      ],
      "execution_count": 85
    },
    {
      "cell_type": "code",
      "source": [
        "bool_list = [True, True, 3>5]\n",
        "print(f\"any({bool_list}) is\", any(bool_list))\n",
        "print(f\"all({bool_list}) is\", all(bool_list))"
      ],
      "metadata": {
        "colab": {
          "base_uri": "https://localhost:8080/"
        },
        "id": "yA3yDexOwBzg",
        "outputId": "e20f97e2-8977-4601-95ee-16093bba9d44"
      },
      "id": "yA3yDexOwBzg",
      "execution_count": 83,
      "outputs": [
        {
          "output_type": "stream",
          "name": "stdout",
          "text": [
            "any([True, True, False]) is True\n",
            "all([True, True, False]) is False\n"
          ]
        }
      ]
    },
    {
      "cell_type": "code",
      "source": [
        "bool_list = [False, False, 3>5]\n",
        "print(f\"any({bool_list}) is\", any(bool_list))\n",
        "print(f\"all({bool_list}) is\", all(bool_list))\n",
        "\n",
        "# the usage of bool_list or bool_x is for explanation purposes. Most of the time we will not define a variable but just simply put the requirement e.g. 3>5"
      ],
      "metadata": {
        "colab": {
          "base_uri": "https://localhost:8080/"
        },
        "id": "ngwWqsR5wDh-",
        "outputId": "58386b4a-6173-4164-a833-b3568c98050a"
      },
      "id": "ngwWqsR5wDh-",
      "execution_count": 84,
      "outputs": [
        {
          "output_type": "stream",
          "name": "stdout",
          "text": [
            "any([False, False, False]) is False\n",
            "all([False, False, False]) is False\n"
          ]
        }
      ]
    },
    {
      "cell_type": "markdown",
      "id": "2d72b318",
      "metadata": {
        "id": "2d72b318"
      },
      "source": [
        "### Order of Operations Revisted\n",
        "Since these logical expressions can be combined with numerical calculations (True = 1 and False = 0), it is important that they also respect some order of operations. Mathematical operations are done first, then logical ones in the following order:\n",
        "1. Parentheses (not techincally an operation)\n",
        "2. Exponentiation\n",
        "3. Multiplication & Division\n",
        "4. Addition & Subtraction\n",
        "5. Comparison Operators\n",
        "6. `not`\n",
        "7. `and`\n",
        "8. `or`\n",
        "\n",
        "Using this information, explain why might the commented line below would produce an error."
      ]
    },
    {
      "cell_type": "code",
      "id": "a9d7e288",
      "metadata": {
        "id": "a9d7e288",
        "colab": {
          "base_uri": "https://localhost:8080/"
        },
        "outputId": "8427201f-6e40-4b3c-f76d-edf8fadabddf"
      },
      "source": [
        "# Order of Operations Revisted Example\n",
        "print( 4 ** 3 -1  > 0 )\n",
        "print( 4 ** 3 + (-1 > 0) )\n",
        "\n",
        "print(-2 * 6 * (not True))\n",
        "print(10 * (3 < 5) +  5 * (3 > 1) - (2 * 5 > 1))\n",
        "\n",
        "# print(-2 * 6 * not True) # This line will produce an error!"
      ],
      "outputs": [
        {
          "output_type": "stream",
          "name": "stdout",
          "text": [
            "True\n",
            "64\n",
            "0\n",
            "14\n"
          ]
        }
      ],
      "execution_count": 86
    }
  ],
  "metadata": {
    "kernelspec": {
      "display_name": "Python 3 (ipykernel)",
      "language": "python",
      "name": "python3"
    },
    "language_info": {
      "codemirror_mode": {
        "name": "ipython",
        "version": 3
      },
      "file_extension": ".py",
      "mimetype": "text/x-python",
      "name": "python",
      "nbconvert_exporter": "python",
      "pygments_lexer": "ipython3",
      "version": "3.9.15"
    },
    "colab": {
      "provenance": []
    }
  },
  "nbformat": 4,
  "nbformat_minor": 5
}